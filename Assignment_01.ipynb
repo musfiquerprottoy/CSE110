{
  "nbformat": 4,
  "nbformat_minor": 0,
  "metadata": {
    "colab": {
      "provenance": []
    },
    "kernelspec": {
      "name": "python3",
      "display_name": "Python 3"
    },
    "language_info": {
      "name": "python"
    }
  },
  "cells": [
    {
      "cell_type": "code",
      "source": [
        "#Task 01:\n",
        "print(\"Hello World\")"
      ],
      "metadata": {
        "colab": {
          "base_uri": "https://localhost:8080/"
        },
        "id": "cjk1vUtYaJsl",
        "outputId": "868b7f62-0897-4601-ffdb-7cf583618ffe"
      },
      "execution_count": null,
      "outputs": [
        {
          "output_type": "stream",
          "name": "stdout",
          "text": [
            "Hello World\n"
          ]
        }
      ]
    },
    {
      "cell_type": "code",
      "source": [
        "#Task 02:\n",
        "print(54+56)"
      ],
      "metadata": {
        "colab": {
          "base_uri": "https://localhost:8080/"
        },
        "id": "r3jF1zy7eae9",
        "outputId": "37600da0-b776-4c32-80e2-5233a592b4fd"
      },
      "execution_count": null,
      "outputs": [
        {
          "output_type": "stream",
          "name": "stdout",
          "text": [
            "110\n"
          ]
        }
      ]
    },
    {
      "cell_type": "code",
      "source": [
        "#Task 03:\n",
        "Season = \"Fall\"\n",
        "Year  = 2022\n",
        "print(Season)\n",
        "print(Year)\n"
      ],
      "metadata": {
        "colab": {
          "base_uri": "https://localhost:8080/"
        },
        "id": "bKReJOijhVhE",
        "outputId": "03229ed7-15cd-4c26-c10c-cbef97c9de7c"
      },
      "execution_count": null,
      "outputs": [
        {
          "output_type": "stream",
          "name": "stdout",
          "text": [
            "Fall\n",
            "2022\n"
          ]
        }
      ]
    },
    {
      "cell_type": "code",
      "source": [
        "#Task 04:\n",
        "Name1 = input(\"Please enter first name: \")\n",
        "Name2 = input(\"Please enter second name: \")\n",
        "print(\"Your name is \",Name1)\n",
        "print (\"Your name is \",Name2)"
      ],
      "metadata": {
        "colab": {
          "base_uri": "https://localhost:8080/"
        },
        "id": "KJHsQ9yNcY0g",
        "outputId": "ea3746f1-0dd7-4990-ed86-bab9eddf9e3a"
      },
      "execution_count": null,
      "outputs": [
        {
          "output_type": "stream",
          "name": "stdout",
          "text": [
            "Please enter first name: John\n",
            "Please enter second name: Albert\n",
            "Your name is  John\n",
            "Your name is  Albert\n"
          ]
        }
      ]
    },
    {
      "cell_type": "code",
      "execution_count": null,
      "metadata": {
        "colab": {
          "base_uri": "https://localhost:8080/"
        },
        "id": "PA08yGfcZN0q",
        "outputId": "863cf109-62ad-44e1-ca81-b3901f8a4db7"
      },
      "outputs": [
        {
          "output_type": "stream",
          "name": "stdout",
          "text": [
            "Please enter first number: 2\n",
            "Please enter second number: 3\n",
            "2^3:8\n"
          ]
        }
      ],
      "source": [
        "#Task 05:\n",
        "M = int(input(\"Please enter first number: \"))\n",
        "N = int(input(\"Please enter second number: \"))\n",
        "Power = (M**N)\n",
        "print(str(M)+\"^\"+str(N)+\":\"+str(Power))"
      ]
    },
    {
      "cell_type": "code",
      "source": [
        "#Task 06:\n",
        "Goods = int(input(\"Please enter the number of goods: \"))\n",
        "Mod = (Goods%4)\n",
        "Weight_taken = (Goods-Mod)\n",
        "print (\"Weight taken by the boat:\",Weight_taken)"
      ],
      "metadata": {
        "colab": {
          "base_uri": "https://localhost:8080/"
        },
        "id": "t2ETULpji1lC",
        "outputId": "a5914623-5933-4470-b77d-a6dc6d1170eb"
      },
      "execution_count": null,
      "outputs": [
        {
          "output_type": "stream",
          "name": "stdout",
          "text": [
            "Please enter the number of goods: 23\n",
            "Weight taken by the boat: 20\n"
          ]
        }
      ]
    },
    {
      "cell_type": "code",
      "source": [
        "#Task 07:\n",
        "A = int(input(\"Please enter A: \"))\n",
        "B = int(input(\"Please enter B: \"))\n",
        "C = int(input(\"Please enter C: \"))\n",
        "D = float(input(\"Please enter D: \"))\n",
        "print (int(A**C+B*A-(D/3)))"
      ],
      "metadata": {
        "colab": {
          "base_uri": "https://localhost:8080/"
        },
        "id": "uU-S_RYWkJsF",
        "outputId": "b031ff37-1775-41dc-8f71-b367783ab07a"
      },
      "execution_count": null,
      "outputs": [
        {
          "output_type": "stream",
          "name": "stdout",
          "text": [
            "Please enter A: 2\n",
            "Please enter B: 6\n",
            "Please enter C: 8\n",
            "Please enter D: 1.3\n",
            "267\n"
          ]
        }
      ]
    },
    {
      "cell_type": "code",
      "source": [
        "#Task 08:\n",
        "Chocolate = int(input(\"Please enter the number of chocolate: \"))\n",
        "Distributed = (Chocolate/3)\n",
        "Remaining = (Chocolate%3)\n",
        "print (\"Each friend will get \",int(Distributed))\n",
        "print (\"Chocolate remaining \",Remaining)"
      ],
      "metadata": {
        "colab": {
          "base_uri": "https://localhost:8080/"
        },
        "id": "wcMwyBLkn8x0",
        "outputId": "0584750d-aedf-4550-dcc9-f9dab196ae33"
      },
      "execution_count": null,
      "outputs": [
        {
          "output_type": "stream",
          "name": "stdout",
          "text": [
            "Please enter the number of chocolate: 50\n",
            "Each friend will get  16\n",
            "Chocolate remaining  2\n"
          ]
        }
      ]
    },
    {
      "cell_type": "code",
      "source": [
        "M = int(input(\"Please enter M:\"))\n",
        "N = int(input(\"Please enter N:\"))\n",
        "Power = M**N\n",
        "print(str (M)+ \"^\" + str (N)+ \":\" + str(\"M**N\"))\n"
      ],
      "metadata": {
        "colab": {
          "base_uri": "https://localhost:8080/"
        },
        "id": "VIXOjE9msnGO",
        "outputId": "3a8d42a0-2d8a-4082-9883-ea9916aeac15"
      },
      "execution_count": null,
      "outputs": [
        {
          "output_type": "stream",
          "name": "stdout",
          "text": [
            "Please enter M:10\n",
            "Please enter N:3\n",
            "10^3:M**N\n"
          ]
        }
      ]
    },
    {
      "cell_type": "code",
      "source": [
        "M = int(input(\"please enter the first number: \"))\n",
        "\n",
        "Modulus = M%4\n",
        "Weight_taken=M-Modulus\n",
        "print (\"weight taken:\" ,Weight_taken)"
      ],
      "metadata": {
        "colab": {
          "base_uri": "https://localhost:8080/"
        },
        "id": "oVdYdf3wwTqM",
        "outputId": "4737cdcd-976d-4a69-fb94-b8cc248d7b4d"
      },
      "execution_count": null,
      "outputs": [
        {
          "output_type": "stream",
          "name": "stdout",
          "text": [
            "please enter the first number: 10\n",
            "weight taken: 8\n"
          ]
        }
      ]
    },
    {
      "cell_type": "code",
      "source": [
        "M = int(input(\"Please enter M: \"))\n",
        "N = int(input(\"Please enter N: \"))\n",
        "Power = M**N\n",
        "print(str(M)+ \"^\" + str(N)+ \":\" +str (Power))"
      ],
      "metadata": {
        "colab": {
          "base_uri": "https://localhost:8080/"
        },
        "id": "-vLWor4hhQ20",
        "outputId": "ead77f23-13c7-4d89-e4cd-fdf91da96fed"
      },
      "execution_count": null,
      "outputs": [
        {
          "output_type": "stream",
          "name": "stdout",
          "text": [
            "Please enter M: 10\n",
            "Please enter N: 3\n",
            "10^3:1000\n"
          ]
        }
      ]
    },
    {
      "cell_type": "code",
      "source": [
        "M = int(input(\"Total weight: \"))\n",
        "Modulus = M%4\n",
        "Weight_taken = M-Modulus\n",
        "print(\"Weight taken : \",Weight_taken)\n"
      ],
      "metadata": {
        "colab": {
          "base_uri": "https://localhost:8080/"
        },
        "id": "at6Ics9vjsb6",
        "outputId": "ff41ea03-360a-4c67-af62-bf06c54e1fff"
      },
      "execution_count": null,
      "outputs": [
        {
          "output_type": "stream",
          "name": "stdout",
          "text": [
            "Total weight: 11\n",
            "Weight taken :  8\n"
          ]
        }
      ]
    },
    {
      "cell_type": "code",
      "source": [
        "M = 'This is a string'\n",
        "print(M[0])\n"
      ],
      "metadata": {
        "colab": {
          "base_uri": "https://localhost:8080/"
        },
        "id": "byCyvwx4uJ0Z",
        "outputId": "82dd5e2a-7929-4f14-a5b4-89ff4d17c284"
      },
      "execution_count": null,
      "outputs": [
        {
          "output_type": "stream",
          "name": "stdout",
          "text": [
            "T\n"
          ]
        }
      ]
    },
    {
      "cell_type": "code",
      "source": [
        "num = int(input(\"Enter a number: \"))\n",
        "if (num % 2) == 0:\n",
        "   print(\"{0} is Even\".format(num))\n",
        "else:\n",
        "   print(\"{0} is Odd\".format(num))\n",
        ""
      ],
      "metadata": {
        "colab": {
          "base_uri": "https://localhost:8080/"
        },
        "id": "UdNSeZvDDje2",
        "outputId": "bbf6b68b-4eb5-44b9-b482-2cb8543e7b6b"
      },
      "execution_count": null,
      "outputs": [
        {
          "output_type": "stream",
          "name": "stdout",
          "text": [
            "Enter a number: 10\n",
            "10 is Even\n"
          ]
        }
      ]
    },
    {
      "cell_type": "code",
      "source": [
        "num = int(input(\"enter your number\"))\n",
        "if (num % 2)==0 :\n",
        "  print(\"true\")\n",
        "else:\n",
        "  print(\"FAslse\")\n",
        "\n",
        "\n"
      ],
      "metadata": {
        "colab": {
          "base_uri": "https://localhost:8080/"
        },
        "id": "80xHaSaaDr9a",
        "outputId": "0a1dbd51-029b-4b26-a054-1ca6422d81e6"
      },
      "execution_count": null,
      "outputs": [
        {
          "output_type": "stream",
          "name": "stdout",
          "text": [
            "enter your number11\n",
            "FAslse\n"
          ]
        }
      ]
    }
  ]
}