{
  "nbformat": 4,
  "nbformat_minor": 0,
  "metadata": {
    "colab": {
      "provenance": []
    },
    "kernelspec": {
      "name": "python3",
      "display_name": "Python 3"
    },
    "language_info": {
      "name": "python"
    }
  },
  "cells": [
    {
      "cell_type": "code",
      "execution_count": null,
      "metadata": {
        "id": "i2qyF2g_BSVM",
        "colab": {
          "base_uri": "https://localhost:8080/"
        },
        "outputId": "f2b94d0e-4619-4039-c916-8a361156a38b"
      },
      "outputs": [
        {
          "output_type": "stream",
          "name": "stdout",
          "text": [
            " CSE110\n",
            "011ESC"
          ]
        }
      ],
      "source": [
        "#Task 01:\n",
        "text = input(\" \")\n",
        "for i in range(len(text)-1,-1,-1):\n",
        "    print(text[i],end='')"
      ]
    },
    {
      "cell_type": "code",
      "source": [
        "#Tase 02:\n",
        "text = input(' ')\n",
        "x = int(input(' '))\n",
        "print(text[x::-1]+text[x+1:])"
      ],
      "metadata": {
        "id": "hwYLDSesCEB4",
        "colab": {
          "base_uri": "https://localhost:8080/"
        },
        "outputId": "3b92a4a9-8471-46b9-8f6d-8968197679e3"
      },
      "execution_count": null,
      "outputs": [
        {
          "output_type": "stream",
          "name": "stdout",
          "text": [
            " 72418\n",
            " 4\n",
            "81427\n"
          ]
        }
      ]
    },
    {
      "cell_type": "code",
      "source": [
        "#Task 03:\n",
        "x = input(' ')\n",
        "y = True\n",
        "for i in range(len(x)):\n",
        "    if (x[i]!='0' and (x[i]!='1')):\n",
        "        print(\"Not a binary\",end='')\n",
        "        y = False\n",
        "        break\n",
        "if y==True:\n",
        "        print('Binary')"
      ],
      "metadata": {
        "id": "Gzo2gsiYFIzd"
      },
      "execution_count": null,
      "outputs": []
    },
    {
      "cell_type": "code",
      "source": [
        "#Task 04:\n",
        "text = input(\"Please enter a word: \")\n",
        "x = len(text)\n",
        "if (text.endswith('er')):\n",
        "    print(text.replace('er','est'))\n",
        "elif (text.endswith('est')):\n",
        "    print(text)\n",
        "elif (x<4):\n",
        "    print(text)\n",
        "elif (x>3):\n",
        "    print(text +'er')"
      ],
      "metadata": {
        "id": "cVPNebfWJfXS"
      },
      "execution_count": null,
      "outputs": []
    },
    {
      "cell_type": "code",
      "source": [
        "#Task 05:\n",
        "text = input('Pleser enter a single word: ')\n",
        "for i in range (len(text)+1):\n",
        "    print(text[:i:1])"
      ],
      "metadata": {
        "id": "ES5wV0uRLHZd"
      },
      "execution_count": null,
      "outputs": []
    },
    {
      "cell_type": "code",
      "source": [
        "#Task 06:\n",
        "text = input(' ')\n",
        "for i in range(len(text)):\n",
        "    print(text[i],':',ord(text[i]))"
      ],
      "metadata": {
        "id": "rdFIkBHBMGbB"
      },
      "execution_count": null,
      "outputs": []
    },
    {
      "cell_type": "code",
      "source": [
        "#Task 07:\n",
        "word = input(' ')\n",
        "new_word = ' '\n",
        "for i in word:\n",
        "    asci = ord(i)\n",
        "    if asci==ord('z'):\n",
        "        new_word = new_word + 'a'\n",
        "    else:\n",
        "        new_word =new_word+chr(asci+1)\n",
        "print(new_word)"
      ],
      "metadata": {
        "id": "tay1l4sPMjUk"
      },
      "execution_count": null,
      "outputs": []
    },
    {
      "cell_type": "code",
      "source": [
        "#Task 08:\n",
        "text = input('')\n",
        "for i in range(1,len(text),2):\n",
        "    b = ord(text[i])\n",
        "    print(chr(b-32),end='')"
      ],
      "metadata": {
        "id": "uTBbAuwl4FGI"
      },
      "execution_count": null,
      "outputs": []
    },
    {
      "cell_type": "code",
      "source": [
        "#Task 09:\n",
        "text = input('Please enter a string: ')\n",
        "n = ' '\n",
        "for i in range(len(text)):\n",
        "    if text[i]==text[i-1]:\n",
        "        continue\n",
        "    else:\n",
        "        n+=text[i]\n",
        "print(n)"
      ],
      "metadata": {
        "id": "5V6MmCmR2rS6"
      },
      "execution_count": null,
      "outputs": []
    },
    {
      "cell_type": "code",
      "source": [
        "#Task 10\n",
        "string = input()\n",
        "string1,string2= string.split(\", \")\n",
        "length = min(len(string1),len(string2))\n",
        "mixed_string = \"\"\n",
        "for i in range(length):\n",
        "    mixed_string+=string1[i]+string2[i]\n",
        "mixed_string += string1[length:]+string2[length:]\n",
        "print(mixed_string)"
      ],
      "metadata": {
        "id": "DZLA0R3wYq3I"
      },
      "execution_count": null,
      "outputs": []
    },
    {
      "cell_type": "code",
      "source": [
        "#Task 11:\n",
        "i = 10\n",
        "while(i >= -20):\n",
        "    if(i < 0):\n",
        "        test = \" != \"\n",
        "        test = str(i//2) + test + str(int(i/2))\n",
        "    else:\n",
        "        test = \" == \"\n",
        "        test = str(i//2) + test + str(int(i/2))\n",
        "    print(test)\n",
        "    i -= 5"
      ],
      "metadata": {
        "id": "6C_tph4W8mEM"
      },
      "execution_count": null,
      "outputs": []
    },
    {
      "cell_type": "code",
      "source": [
        "#Task 12:\n",
        "test = \"\"\n",
        "i = 0\n",
        "j = 0\n",
        "k = 15\n",
        "test = \"-->\"\n",
        "while i < 5:\n",
        "    j = k - 1\n",
        "    k -= 1\n",
        "    while j > 10:\n",
        "        test = str(i + j) + \"-->\" + test\n",
        "        print(test)\n",
        "        j -= 1\n",
        "    i += 1\n",
        "\n"
      ],
      "metadata": {
        "id": "oQoYD-yb8uYS"
      },
      "execution_count": null,
      "outputs": []
    },
    {
      "cell_type": "code",
      "source": [
        "#Task 13:\n",
        "test = \"\"\n",
        "i = 5\n",
        "j = 0\n",
        "k = 15\n",
        "while i< 10:\n",
        "    k-=1\n",
        "    j = k\n",
        "    while j > 10:\n",
        "        if (j % 2) == 0:\n",
        "            test = \"<--\"\n",
        "            test = str(test) + str(i) + str(2) + \"-->\" + str(int(j / 2))\n",
        "        else:\n",
        "            test = \"-->\"\n",
        "            test = \"-->\" + str(int(i / 2)) + str(test) + str(j)\n",
        "        print(test)\n",
        "        j = j-1\n",
        "    i+=1"
      ],
      "metadata": {
        "id": "150zNm6J8xzg"
      },
      "execution_count": null,
      "outputs": []
    },
    {
      "cell_type": "code",
      "source": [
        "#Task 14:\n",
        "test = \"\"\n",
        "i = 5\n",
        "j = 0\n",
        "k = 15\n",
        "while (i< 10):\n",
        "    k-=1\n",
        "    j = k\n",
        "    while (j > 10 ):\n",
        "        if j % 2 == 0:\n",
        "            test = \"<--\"\n",
        "            test = test + str( i) + '3' + \"-->\" + str(j // 3)\n",
        "        else:\n",
        "            test = \"-->\"\n",
        "            test = \"-->\" + str((i // 3)) + test + str(j)\n",
        "        print(test)\n",
        "        j -=1\n",
        "    i+=1"
      ],
      "metadata": {
        "id": "fURpWWtw860c"
      },
      "execution_count": null,
      "outputs": []
    },
    {
      "cell_type": "code",
      "source": [
        "#Task 15:\n",
        "i=0\n",
        "j=0\n",
        "k=15\n",
        "test = '<--cat'\n",
        "while i < 5:\n",
        "    k -= 1\n",
        "    j = k\n",
        "    while j > 10:\n",
        "        if j % 2 == 0:\n",
        "            test += '-->'\n",
        "            test = test + str(i) + str(j // 2)\n",
        "        else:\n",
        "            test += '<--'\n",
        "            test = test + str(i // 2) + str(j)\n",
        "        print(test)\n",
        "        j-=1\n",
        "    i+=1"
      ],
      "metadata": {
        "id": "uLuWKS358_9s"
      },
      "execution_count": null,
      "outputs": []
    },
    {
      "cell_type": "code",
      "source": [
        "#Task 16:\n",
        "string = input()\n",
        "letter = input()\n",
        "if letter in string:\n",
        "    output = string.replace(letter,\"\")\n",
        "    print(output)\n",
        "elif len(string)>3:\n",
        "    print(string[1:-1])\n",
        "else:\n",
        "    print(string)"
      ],
      "metadata": {
        "id": "I_hTHFJKenbg"
      },
      "execution_count": null,
      "outputs": []
    }
  ]
}