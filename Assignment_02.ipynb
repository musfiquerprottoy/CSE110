{
  "nbformat": 4,
  "nbformat_minor": 0,
  "metadata": {
    "colab": {
      "provenance": []
    },
    "kernelspec": {
      "name": "python3",
      "display_name": "Python 3"
    },
    "language_info": {
      "name": "python"
    }
  },
  "cells": [
    {
      "cell_type": "code",
      "execution_count": null,
      "metadata": {
        "colab": {
          "base_uri": "https://localhost:8080/"
        },
        "id": "oATovLzKYiEY",
        "outputId": "dfbdc17c-06a0-4879-8873-8a491f0d6570"
      },
      "outputs": [
        {
          "output_type": "stream",
          "name": "stdout",
          "text": [
            "Please enter the first number: 4\n",
            "Please enter the second number: 5\n",
            "Sum= 9\n",
            "Product= 20\n",
            "Difference= -1\n"
          ]
        }
      ],
      "source": [
        "#Task 1\n",
        "A = int(input(\"Please enter the first number: \"))\n",
        "B = int(input(\"Please enter the second number: \"))\n",
        "\n",
        "Sum = (A+B)\n",
        "Product = (A*B)\n",
        "Difference = (A-B)\n",
        "\n",
        "print (\"Sum=\",Sum)\n",
        "print(\"Product=\",Product)\n",
        "print(\"Difference=\",Difference)"
      ]
    },
    {
      "cell_type": "code",
      "source": [
        "#Task 2\n",
        "import math\n",
        "r = int(input(\"Please enter radius: \"))\n",
        "Area = math.pi*math.pow(r,2)\n",
        "print (\"Area: \",Area)\n",
        "Circumference = (2*math.pi*r)\n",
        "print(\"Circumference: \",Circumference)"
      ],
      "metadata": {
        "colab": {
          "base_uri": "https://localhost:8080/"
        },
        "id": "marBKDI9dhvS",
        "outputId": "78301b1a-7bfe-4f34-9feb-3a32f0e54410"
      },
      "execution_count": null,
      "outputs": [
        {
          "output_type": "stream",
          "name": "stdout",
          "text": [
            "Please enter radius: 4\n",
            "Area:  50.26548245743669\n",
            "Circumference:  25.132741228718345\n"
          ]
        }
      ]
    },
    {
      "cell_type": "code",
      "source": [
        "#Task 3\n",
        "A = int(input(\"Please enter first number: \"))\n",
        "B = int(input(\"Please enter second number: \"))\n",
        "if A>B:\n",
        "  print(\"First is greater \")\n",
        "elif B>A:\n",
        "  print(\"Second is greater \")\n",
        "else:\n",
        "  print (\"The numbers are equal \")\n",
        ""
      ],
      "metadata": {
        "colab": {
          "base_uri": "https://localhost:8080/"
        },
        "id": "EYhVm1H9di1K",
        "outputId": "c7b38367-9d39-4415-9c6f-55ade2891c63"
      },
      "execution_count": null,
      "outputs": [
        {
          "output_type": "stream",
          "name": "stdout",
          "text": [
            "Please enter first number: 5\n",
            "Please enter second number: 5\n",
            "The numbers are equal \n"
          ]
        }
      ]
    },
    {
      "cell_type": "code",
      "source": [
        "#Task 4\n",
        "A = int(input(\"Please enter the first number: \"))\n",
        "B = int(input(\"Please enter the second number: \"))\n",
        "if A>B:\n",
        "  print(\"Answer \",A-B)\n",
        "else:\n",
        "  print(\"Answer \",B-A)"
      ],
      "metadata": {
        "colab": {
          "base_uri": "https://localhost:8080/"
        },
        "id": "fkIuitcsfCaj",
        "outputId": "39453252-e618-4694-adaa-c48efc6d2471"
      },
      "execution_count": null,
      "outputs": [
        {
          "output_type": "stream",
          "name": "stdout",
          "text": [
            "Please enter the first number: 5\n",
            "Please enter the second number: 7\n",
            "Answer  2\n"
          ]
        }
      ]
    },
    {
      "cell_type": "code",
      "source": [
        "#Task 5\n",
        "Num = int(input(\"Please enter your number:\" ))\n",
        "if (Num%2)==0:\n",
        "  print(\"The number is even \")\n",
        "else:\n",
        "  print(\"The number is odd\")"
      ],
      "metadata": {
        "colab": {
          "base_uri": "https://localhost:8080/"
        },
        "id": "IApyIDvikDF2",
        "outputId": "e28b2030-4fa2-45de-c0cd-482dc5f7d2f1"
      },
      "execution_count": null,
      "outputs": [
        {
          "output_type": "stream",
          "name": "stdout",
          "text": [
            "Please enter your number:-44\n",
            "The number is even \n"
          ]
        }
      ]
    },
    {
      "cell_type": "code",
      "source": [
        "#Task 6\n",
        "A = int(input(\"Please enter the first number: \"))\n",
        "if (A%2==0) or (A%5==0):\n",
        "  print(A)\n",
        "else:\n",
        "  print(\"it is not a multiple of 2 or 5\")"
      ],
      "metadata": {
        "colab": {
          "base_uri": "https://localhost:8080/"
        },
        "id": "-QqCvI-mmHLy",
        "outputId": "6a2291bb-8442-44cc-cbbf-c07e1c657dda"
      },
      "execution_count": null,
      "outputs": [
        {
          "output_type": "stream",
          "name": "stdout",
          "text": [
            "Please enter the first number: 7\n",
            "it is not a multiple of 2 or 5\n"
          ]
        }
      ]
    },
    {
      "cell_type": "code",
      "source": [
        "#Task 7\n",
        "Num = int (input(\"Please enter your number: \"))\n",
        "if (Num%5==0 and Num%2==0):\n",
        "  print(\"Multiple of both 2&5 \")\n",
        "elif (Num%5==0 or Num%2==0):\n",
        "    print(\"It's a multiple of 2 or 5\")"
      ],
      "metadata": {
        "colab": {
          "base_uri": "https://localhost:8080/"
        },
        "id": "xmC05NiTrAWN",
        "outputId": "a92a8aad-c385-4f67-8790-cf2acbdbba08"
      },
      "execution_count": null,
      "outputs": [
        {
          "output_type": "stream",
          "name": "stdout",
          "text": [
            "Please enter your number: 10\n",
            "Multiple of both 2&5 \n"
          ]
        }
      ]
    },
    {
      "cell_type": "code",
      "source": [
        "#Task 8\n",
        "Num = int (input(\"Please enter your number: \"))\n",
        "if (Num%2==0 and Num%5==0):\n",
        "  print(\"Multiple of both 2&5\")\n",
        "elif (Num%2==0 or )"
      ],
      "metadata": {
        "id": "NXWDlnlksDvb",
        "colab": {
          "base_uri": "https://localhost:8080/",
          "height": 133
        },
        "outputId": "cc61ff89-fd86-4a0b-e0f5-4d1bb3936381"
      },
      "execution_count": null,
      "outputs": [
        {
          "output_type": "error",
          "ename": "SyntaxError",
          "evalue": "ignored",
          "traceback": [
            "\u001b[0;36m  File \u001b[0;32m\"<ipython-input-3-7a8cc4e94886>\"\u001b[0;36m, line \u001b[0;32m5\u001b[0m\n\u001b[0;31m    elif (Num%2==0 or )\u001b[0m\n\u001b[0m                      ^\u001b[0m\n\u001b[0;31mSyntaxError\u001b[0m\u001b[0;31m:\u001b[0m invalid syntax\n"
          ]
        }
      ]
    },
    {
      "cell_type": "code",
      "source": [
        "#Task 9\n",
        "a = int(input(\"Please enter the number of seconds: \"))\n",
        "Hour = (a//3600)\n",
        "b = (a%3600)\n",
        "Minute = (b//60)\n",
        "c = (b%60)\n",
        "print (\"Hours:\",Hour,end=\" \")\n",
        "print (\"Minutes:\",Minute,end=\" \")\n",
        "print (\"Seconds:\",c,end=\" \")"
      ],
      "metadata": {
        "colab": {
          "base_uri": "https://localhost:8080/"
        },
        "id": "Hd9sUOSTvktG",
        "outputId": "5d591f87-5370-49ca-bc01-50710ee52e53"
      },
      "execution_count": null,
      "outputs": [
        {
          "output_type": "stream",
          "name": "stdout",
          "text": [
            "Please enter the number of seconds: 10000\n",
            "Hours: 2 Minutes: 46 Seconds: 40 "
          ]
        }
      ]
    },
    {
      "cell_type": "code",
      "source": [
        "#Task 10\n",
        "A = int(input(\"Please enter his working hour: \"))\n",
        "if (A<0):\n",
        "  print(\"Hour can not be negative\")\n",
        "elif (A>168):\n",
        "  print(\"It is impossible to work more than 168 hour in a week \")\n",
        "elif (A<=40):\n",
        "  print(A*200)\n",
        "elif (A>40):\n",
        "  B = (A-40)\n",
        "  print(8000+B*300)\n"
      ],
      "metadata": {
        "colab": {
          "base_uri": "https://localhost:8080/"
        },
        "id": "Ti5m55j701Yy",
        "outputId": "b1ebfe1a-b7ef-4b6a-acbf-99d5d4ed37f1"
      },
      "execution_count": null,
      "outputs": [
        {
          "output_type": "stream",
          "name": "stdout",
          "text": [
            "Please enter his working hour: 100\n",
            "26000\n"
          ]
        }
      ]
    },
    {
      "cell_type": "code",
      "source": [
        "#Task 11\n",
        "S = int(input(\"Please enter the value of S: \"))\n",
        "if(S<100):\n",
        "  L=(3000-125*S**2)\n",
        "  print(L)\n",
        "elif (S>=100):\n",
        "  L = (12000/(4+S**2/14900))\n",
        "  print (L)\n",
        ""
      ],
      "metadata": {
        "colab": {
          "base_uri": "https://localhost:8080/"
        },
        "id": "NrsRo1DyR_EP",
        "outputId": "05fe8380-11a9-4c11-eb87-79cacc97bfc5"
      },
      "execution_count": null,
      "outputs": [
        {
          "output_type": "stream",
          "name": "stdout",
          "text": [
            "Please enter the value of S: 120\n",
            "2416.2162162162163\n"
          ]
        }
      ]
    },
    {
      "cell_type": "code",
      "source": [
        "#Task 12\n",
        "A = int(input(\"Please enter your time: \"))\n",
        "if (4<=A<=6):\n",
        "  print(\"Breakfast\")\n",
        "elif (12<=A<=13):\n",
        "  print(\"Lunch\")\n",
        "elif (16<=A<=17):\n",
        "  print(\"Snacks\")\n",
        "elif (19<=A<=20):\n",
        "  print(\"Dinner\")\n",
        "elif (0<=A<4 or 6<A<12 or 13<A<16 or 17<A<19 or 20<A<24):\n",
        "  print(\"Patient is a virtue\")\n",
        "elif (A<0 or A>24):\n",
        "  print(\"Wrong time\")\n"
      ],
      "metadata": {
        "colab": {
          "base_uri": "https://localhost:8080/"
        },
        "id": "-arvB8meYQbY",
        "outputId": "ad1c1805-dcd1-4589-8453-a278893015c3"
      },
      "execution_count": null,
      "outputs": [
        {
          "output_type": "stream",
          "name": "stdout",
          "text": [
            "Please enter your time: 19\n",
            "Dinner\n"
          ]
        }
      ]
    },
    {
      "cell_type": "code",
      "source": [
        "#Task 13\n",
        "A = int(input(\"Please enter the number\"))\n",
        "if (A<0 or A>100):\n",
        "  print(\"The number is not valid\")\n",
        "elif (90<=A<=100):\n",
        "  print (\"A\")\n",
        "elif (80<=A<=89):\n",
        "  print(\"B\")\n",
        "elif (70<=A<=79):\n",
        "  print(\"C\")\n",
        "elif (60<=A<=69):\n",
        "  print(\"D\")\n",
        "elif (50<=A<=59):\n",
        "  print(\"E\")\n",
        "elif (0<=A<49):\n",
        "  print(\"Fail\")"
      ],
      "metadata": {
        "colab": {
          "base_uri": "https://localhost:8080/"
        },
        "id": "5TPqD0kPg43d",
        "outputId": "eeefc21b-30f8-4705-8cb0-4514b5f7a91f"
      },
      "execution_count": null,
      "outputs": [
        {
          "output_type": "stream",
          "name": "stdout",
          "text": [
            "Please enter the number70\n",
            "C\n"
          ]
        }
      ]
    },
    {
      "cell_type": "code",
      "source": [
        "#Task 14\n",
        "Distance = int(input(\"Please enter the distance in meter: \"))\n",
        "Time = int(input(\"Please enter the time in second: \"))\n",
        "A = (Distance/1000)\n",
        "B = (Time/3600)\n",
        "Velocity = (A/B)\n",
        "print(\"Velocity\",Valocity,\"Km/h\")\n",
        "if (Velocity<60):\n",
        "  print(\"Too slow.Needs more changes\")\n",
        "elif (60<Velocity<=90):\n",
        "  print(\"Speed is okay\")\n",
        "elif (Velocity>90):\n",
        "  print(\"Too fast\")\n",
        "\n",
        "\n"
      ],
      "metadata": {
        "colab": {
          "base_uri": "https://localhost:8080/"
        },
        "id": "yrpCEt182caW",
        "outputId": "2875253a-4941-4087-e292-9db35381f5c0"
      },
      "execution_count": null,
      "outputs": [
        {
          "output_type": "stream",
          "name": "stdout",
          "text": [
            "Please enter the distance in meter: 16000\n",
            "Please enter the time in second: 1200\n",
            "Velocity 80.0 Km/h\n",
            "Too slow.Needs more changes\n"
          ]
        }
      ]
    },
    {
      "cell_type": "code",
      "source": [
        "#Task 15\n",
        "cgpa = float(input(\"Please enter student's cgpa: \"))\n",
        "credit = int(input(\"Enter the number of completed credit: \"))\n",
        "if cgpa<3.80 or credit<30:\n",
        "    print(\"The student is not eligiable for waiver.\")\n",
        "elif cgpa==4.00:\n",
        "    print(\"The student is eligiable for a waiver of 100 percent.\")\n",
        "elif 3.95<=cgpa<=3.99:\n",
        "    print(\"The student is eligiable for a waiver of 75 percent.\")\n",
        "elif 3.90<=cgpa<=3.94:\n",
        "    print(\"The student is eligiable for a waiver of 50 percent.\")\n",
        "elif 3.80<=cgpa<=3.89:\n",
        "    print(\"The student is eligiable for a waiver of 25 percent.\")"
      ],
      "metadata": {
        "colab": {
          "base_uri": "https://localhost:8080/"
        },
        "id": "E5XNf9ZHI-wn",
        "outputId": "a57576bf-dbe0-4cd5-e4d3-449329d16b24"
      },
      "execution_count": null,
      "outputs": [
        {
          "output_type": "stream",
          "name": "stdout",
          "text": [
            "Please enter student's cgpa: 3.79\n",
            "Enter the number of completed credit: 28\n",
            "The student is not eligiable for waiver.\n"
          ]
        }
      ]
    },
    {
      "cell_type": "code",
      "source": [
        "#Task 16:\n",
        "p = 5\n",
        "q = 6\n",
        "r = 9\n",
        "sum = 0\n",
        "if (p < 12):\n",
        "    print(r + 2)\n",
        "else:\n",
        "    print(r + p)\n",
        "if (q > 20):\n",
        "    print(r + 19)\n",
        "elif (q <= 6):\n",
        "    print(q + 3)\n",
        "else:\n",
        "    print(p + q + r)\n",
        "if (r > 15):\n",
        "    print(r)\n",
        "elif (r == 0):\n",
        "    print(p + q)\n",
        "else:\n",
        "    print(p)\n",
        "if (sum != 0):\n",
        "    print(3)\n",
        "else:\n",
        "    print(sum + 32)\n",
        "if (p>0 and r<10):\n",
        "    print(p+r)\n",
        "else:\n",
        "    print(p-r)\n",
        "\n"
      ],
      "metadata": {
        "id": "JWcBNzep62t2",
        "outputId": "5eff0f1c-670f-43a6-9d14-9caabbe48913",
        "colab": {
          "base_uri": "https://localhost:8080/"
        }
      },
      "execution_count": null,
      "outputs": [
        {
          "output_type": "stream",
          "name": "stdout",
          "text": [
            "11\n",
            "9\n",
            "5\n",
            "32\n",
            "14\n"
          ]
        }
      ]
    },
    {
      "cell_type": "code",
      "source": [
        "#Task 17:\n",
        "var1 = var2 = var3 = var4 = var5 = var6 = False\n",
        "result1 = False\n",
        "result2 = False\n",
        "result3 = False\n",
        "result4 = False\n",
        "result5 = False\n",
        "result6 = False\n",
        "result7 = False\n",
        "result8 = False\n",
        "result9 = False\n",
        "result10 = False\n",
        "var1 = 4 > 3 - 1\n",
        "var2 = var1 and False\n",
        "var3 = True\n",
        "var4 = False\n",
        "var5 = True\n",
        "var6 = var3 and False\n",
        "result1 = (var1 or var2) and (8 * 10 > 45)\n",
        "result2 = (var1 or var2) and (result1 and False)\n",
        "result3 = (var1 and result1) or result2\n",
        "result4 = (var1 or var2) or ((var3 and var1) and False)\n",
        "result5 = (var1 and var2) and (result3 or var1)\n",
        "result6 = ((var3 or var2) and not(result5)) or True\n",
        "result7 = (var4 and result1) and ((result1 and False) or True)\n",
        "result8 = ((var1 and result3) and (var5 or var6)) and True\n",
        "result9 = ((result2 and var2) or (result7 and var1)) and False\n",
        "result10 = not(var1 and True)\n",
        "print(result7)"
      ],
      "metadata": {
        "colab": {
          "base_uri": "https://localhost:8080/"
        },
        "id": "hxjORc-BElD5",
        "outputId": "26294c7c-11d3-455a-e7b5-a259081f3929"
      },
      "execution_count": null,
      "outputs": [
        {
          "output_type": "stream",
          "name": "stdout",
          "text": [
            "False\n"
          ]
        }
      ]
    },
    {
      "cell_type": "code",
      "source": [
        "#Task 20:\n",
        "num = int(input())\n",
        "if num%2!=0 and num%5!=0:\n",
        "    print(num)\n",
        "else:\n",
        "    print('NO')"
      ],
      "metadata": {
        "id": "YJarixHU6uBR"
      },
      "execution_count": null,
      "outputs": []
    },
    {
      "cell_type": "code",
      "source": [
        "#Task 21\n",
        "num = int(input())\n",
        "if num%2!=0 or num%5!=0:\n",
        "    print(num)\n",
        "else:\n",
        "    print('No')"
      ],
      "metadata": {
        "id": "0oG2b0Iq6vos"
      },
      "execution_count": null,
      "outputs": []
    },
    {
      "cell_type": "code",
      "source": [
        "#Task 22:\n",
        "canvases = int(input('Please enter canvases: '))*120\n",
        "tubes = int(input('Please enter tube: '))*75\n",
        "price = canvases+tubes\n",
        "discount = 0\n",
        "if 0<=price<=299:\n",
        "    discount+=0\n",
        "elif 300<=price<=499:\n",
        "    discount+=10\n",
        "elif 500<=price<=749:\n",
        "    discount+=20\n",
        "elif 750<=price<=999:\n",
        "    discount+=50\n",
        "elif price>=1000:\n",
        "    discount+=150\n",
        "print('Prvious total: ',price)\n",
        "print('New total after discount: ',price-discount)"
      ],
      "metadata": {
        "id": "tCs2Jq_a6xxe"
      },
      "execution_count": null,
      "outputs": []
    },
    {
      "cell_type": "code",
      "source": [
        "#Task 23:\n",
        "fahrenheit = float(input())\n",
        "celsius = (fahrenheit-32)*0.56\n",
        "print(celsius,'degree C')\n",
        "if celsius<20:\n",
        "    print('Winter.')\n",
        "elif 20<=celsius<=25:\n",
        "    print('Autumn.')\n",
        "elif 25<=celsius<30:\n",
        "    print('Spring.')\n",
        "elif celsius>=30:\n",
        "    print('Summerb.')"
      ],
      "metadata": {
        "id": "5OQwHtsn6zd7"
      },
      "execution_count": null,
      "outputs": []
    }
  ]
}