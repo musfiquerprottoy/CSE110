{
  "nbformat": 4,
  "nbformat_minor": 0,
  "metadata": {
    "colab": {
      "provenance": []
    },
    "kernelspec": {
      "name": "python3",
      "display_name": "Python 3"
    },
    "language_info": {
      "name": "python"
    }
  },
  "cells": [
    {
      "cell_type": "code",
      "execution_count": null,
      "metadata": {
        "colab": {
          "base_uri": "https://localhost:8080/"
        },
        "id": "b8qBKPBKZzdw",
        "outputId": "7364aa9d-c9eb-4c5f-e98e-d56a99d77132"
      },
      "outputs": [
        {
          "output_type": "stream",
          "name": "stdout",
          "text": [
            "3\n",
            "Numbers in the list: ['3']\n",
            "5\n",
            "Numbers in the list: ['3', '5']\n",
            "-11\n",
            "Numbers in the list: ['3', '5', '-11']\n",
            "34\n",
            "Numbers in the list: ['3', '5', '-11', '34']\n",
            "0\n",
            "Numbers in the list: ['3', '5', '-11', '34', '0']\n"
          ]
        }
      ],
      "source": [
        "#Task 01:\n",
        "l1 = []\n",
        "for i in range(5):\n",
        "    x = input()\n",
        "    l1.append(x)\n",
        "    print('Numbers in the list:',l1)\n"
      ]
    },
    {
      "cell_type": "code",
      "source": [
        "#Task 02:\n",
        "l1 = [10, 20, 24, 25]\n",
        "if len(l1)<4:\n",
        "    print('Not possible')\n",
        "new_l1 = l1[2:len(l1)-2]\n",
        "print(new_l1)"
      ],
      "metadata": {
        "colab": {
          "base_uri": "https://localhost:8080/"
        },
        "id": "Y6yzfWpIbOd6",
        "outputId": "8e2304f5-c03a-49d9-a93a-a575e2c2b970"
      },
      "execution_count": null,
      "outputs": [
        {
          "output_type": "stream",
          "name": "stdout",
          "text": [
            "[]\n"
          ]
        }
      ]
    },
    {
      "cell_type": "code",
      "source": [
        "#Task 03:\n",
        "l1 = []\n",
        "num = 5\n",
        "for i in range(num):\n",
        "    x = int(input())\n",
        "    l1.append(x)\n",
        "    y = l1[-1::-1]\n",
        "print('Printing values from the list in reverse order:')\n",
        "for i in y:\n",
        "    print(i)\n"
      ],
      "metadata": {
        "colab": {
          "base_uri": "https://localhost:8080/"
        },
        "id": "6_2QdwLxdg7d",
        "outputId": "3669ef67-6543-4931-fb9a-faf191efb049"
      },
      "execution_count": null,
      "outputs": [
        {
          "output_type": "stream",
          "name": "stdout",
          "text": [
            "5\n",
            "-5\n",
            "100\n",
            "1\n",
            "0\n",
            "Printing values from the list in reverse order:\n",
            "0\n",
            "1\n",
            "100\n",
            "-5\n",
            "5\n"
          ]
        }
      ]
    },
    {
      "cell_type": "code",
      "source": [
        "#Task 04:\n",
        "l1 = [3, 5, 1, 6]\n",
        "x = []\n",
        "for i in l1:\n",
        "    x.append(i**2)\n",
        "print(x)"
      ],
      "metadata": {
        "colab": {
          "base_uri": "https://localhost:8080/"
        },
        "id": "GpfpUcSpfgCf",
        "outputId": "2c650d51-8c32-4b77-9bf4-ee91aeb16f20"
      },
      "execution_count": null,
      "outputs": [
        {
          "output_type": "stream",
          "name": "stdout",
          "text": [
            "[9, 25, 1, 36]\n"
          ]
        }
      ]
    },
    {
      "cell_type": "code",
      "source": [
        "#Task 05:\n",
        "l1 = [\"hey\", \"there\", \"\", \"what's\", \"\", \"up\", \"\", \"?\"]\n",
        "x = []\n",
        "for i in l1:\n",
        "    if i != \"\":\n",
        "        x.append(i)\n",
        "print(x)"
      ],
      "metadata": {
        "colab": {
          "base_uri": "https://localhost:8080/"
        },
        "id": "BgmcPIS0f8bg",
        "outputId": "5251bbc3-5637-4ba2-dc18-ff3a0154abf5"
      },
      "execution_count": null,
      "outputs": [
        {
          "output_type": "stream",
          "name": "stdout",
          "text": [
            "['hey', 'there', \"what's\", 'up', '?']\n"
          ]
        }
      ]
    },
    {
      "cell_type": "code",
      "source": [
        "#Task 06:\n",
        "import math\n",
        "l1 = input()\n",
        "l1 = l1.split(\",\")\n",
        "my_list = []\n",
        "index = 0\n",
        "for i in l1:\n",
        "    my_list.append(int(i))\n",
        "print('My list: ',my_list)\n",
        "max=-math.inf\n",
        "for i in my_list:\n",
        "    if i>=max:\n",
        "        max=i\n",
        "index=my_list.index(max)\n",
        "print(f\"largest number in the list is{max} which was found in index {index}\")\n"
      ],
      "metadata": {
        "colab": {
          "base_uri": "https://localhost:8080/"
        },
        "id": "E6MR-WXng67m",
        "outputId": "220fdb6e-cc29-44a2-fae7-bdfa217b1b0d"
      },
      "execution_count": null,
      "outputs": [
        {
          "output_type": "stream",
          "name": "stdout",
          "text": [
            "7, 13, 2, 10, 6, -11, 0\n",
            "My list:  [7, 13, 2, 10, 6, -11, 0]\n",
            "largest number in the list is13 which was found in index 1\n"
          ]
        }
      ]
    },
    {
      "cell_type": "code",
      "source": [
        "#Task 07:\n",
        "List_one = [1, 4, 7, 5]\n",
        "List_two = [6, 1, 3, 9]\n",
        "List_one[-1:]=List_two\n",
        "print(List_one)"
      ],
      "metadata": {
        "colab": {
          "base_uri": "https://localhost:8080/"
        },
        "id": "Dxws9jBzPZhF",
        "outputId": "6e452be4-aa4c-44b5-aae9-908281e33798"
      },
      "execution_count": null,
      "outputs": [
        {
          "output_type": "stream",
          "name": "stdout",
          "text": [
            "[1, 4, 7, 6, 1, 3, 9]\n"
          ]
        }
      ]
    },
    {
      "cell_type": "code",
      "source": [
        "#Task 8\n",
        "list_one=[1,2,3,4,5,6,7,8,9]\n",
        "list_two=[10,11,12,13,-14,-15,-16]\n",
        "list_three=[]\n",
        "for i in list_one:\n",
        "    if i%2==0:\n",
        "        list_three.append(i)\n",
        "for j in list_two:\n",
        "    if j%2==0:\n",
        "        list_three.append(j)\n",
        "print(list_three)"
      ],
      "metadata": {
        "colab": {
          "base_uri": "https://localhost:8080/"
        },
        "id": "mrwEPvMOdWjZ",
        "outputId": "338db2a6-4939-4be0-83ce-b66921c80067"
      },
      "execution_count": null,
      "outputs": [
        {
          "output_type": "stream",
          "name": "stdout",
          "text": [
            "[2, 4, 6, 8, 10, 12, -14, -16]\n"
          ]
        }
      ]
    },
    {
      "cell_type": "code",
      "source": [
        "#task 9\n",
        "list_1=[]\n",
        "mod_list=[]\n",
        "string=input(\"\")\n",
        "l=string.split(\" \")\n",
        "list_1.extend(l)\n",
        "print(\"original list\",list_1)\n",
        "for i in list_1:\n",
        "  i=int(i)\n",
        "  if i%2!=0:\n",
        "    mod_list.append(i)\n",
        "print(\"modified list:\",mod_list)"
      ],
      "metadata": {
        "colab": {
          "base_uri": "https://localhost:8080/"
        },
        "id": "CJ7dWzlFeKf2",
        "outputId": "b1aa6b06-327f-40a1-9d52-f07cfd0828cf"
      },
      "execution_count": null,
      "outputs": [
        {
          "output_type": "stream",
          "name": "stdout",
          "text": [
            "7 12 4 55 96 2 11 61 33 42\n",
            "original list ['7', '12', '4', '55', '96', '2', '11', '61', '33', '42']\n",
            "modified list: [7, 55, 11, 61, 33]\n"
          ]
        }
      ]
    },
    {
      "cell_type": "code",
      "source": [
        "#Task 10\n",
        "l1=input()\n",
        "l2=l1.split(\",\")\n",
        "l3=[]\n",
        "for i in l2:\n",
        "  l3.append(int(i))\n",
        "print(f\"Input list: {l3}\")\n",
        "l4=[]\n",
        "for i in l3:\n",
        "  if i not in l4:\n",
        "    l4.append(i)\n",
        "print(f\"Modified list: {l4}\")"
      ],
      "metadata": {
        "colab": {
          "base_uri": "https://localhost:8080/"
        },
        "id": "uy_YdQkJepve",
        "outputId": "1a70a73d-8101-4291-93a5-39c5a2c21cf7"
      },
      "execution_count": null,
      "outputs": [
        {
          "output_type": "stream",
          "name": "stdout",
          "text": [
            "0, 0, 1, 2, 3, 4, 4, 5, 6, 6, 6, 7, 8, 9, 4, 4\n",
            "Input list: [0, 0, 1, 2, 3, 4, 4, 5, 6, 6, 6, 7, 8, 9, 4, 4]\n",
            "Modified list: [0, 1, 2, 3, 4, 5, 6, 7, 8, 9]\n"
          ]
        }
      ]
    },
    {
      "cell_type": "code",
      "source": [
        "#task 11\n",
        "list_one=[1,4,3,2,6]\n",
        "list_two=[8,7,6,9]\n",
        "flag=False\n",
        "while True:\n",
        "    for i in list_one:\n",
        "        if i in list_two:\n",
        "            flag=True\n",
        "        break\n",
        "    print(flag)\n",
        "    break"
      ],
      "metadata": {
        "colab": {
          "base_uri": "https://localhost:8080/"
        },
        "id": "agoIFr8xqXF8",
        "outputId": "aed3ebee-1a14-489a-d7d4-bbe513deda66"
      },
      "execution_count": null,
      "outputs": [
        {
          "output_type": "stream",
          "name": "stdout",
          "text": [
            "False\n"
          ]
        }
      ]
    },
    {
      "cell_type": "code",
      "source": [
        "#Task 12:\n",
        "myList = [0, 0, 0, 0, 0, 0, 0, 0, 0, 0]\n",
        "index1 = 0\n",
        "index2 = 0\n",
        "index1 = 1\n",
        "while(index1<10):\n",
        "  myList[index1] = index1+4\n",
        "  index2 = 1\n",
        "  while(index2<index1):\n",
        "      myList[index1] = myList[index1] + myList[index2]-index1\n",
        "      index2 = index2+1\n",
        "  print(myList[index1])\n",
        "  index1 = index1+1"
      ],
      "metadata": {
        "colab": {
          "base_uri": "https://localhost:8080/"
        },
        "id": "6QhEV1V0AVYp",
        "outputId": "d422f6bc-b26e-440d-8542-c2537db68552"
      },
      "execution_count": null,
      "outputs": [
        {
          "output_type": "stream",
          "name": "stdout",
          "text": [
            "5\n",
            "9\n",
            "15\n",
            "25\n",
            "43\n",
            "77\n",
            "143\n",
            "273\n",
            "531\n"
          ]
        }
      ]
    },
    {
      "cell_type": "code",
      "source": [
        "#Task 13:\n",
        "myList = [0, 0, 0, 0, 0, 0, 0, 0, 0, 0]\n",
        "index1 = 0\n",
        "index2 = 0\n",
        "index1 = 1\n",
        "while (index1 < 10):\n",
        "  myList[index1] = index1 + 4\n",
        "  index2 = 1\n",
        "  while (index2 < index1):\n",
        "    myList[index1] = myList[index1-1] - myList[index2-1] - index1\n",
        "    index2 = index2 + 1\n",
        "  print(myList[index1])\n",
        "  index1 = index1 + 1"
      ],
      "metadata": {
        "colab": {
          "base_uri": "https://localhost:8080/"
        },
        "id": "3F0tx9LOAdTR",
        "outputId": "629dc54b-7818-44e2-87d9-0a6c2d62235d"
      },
      "execution_count": null,
      "outputs": [
        {
          "output_type": "stream",
          "name": "stdout",
          "text": [
            "5\n",
            "3\n",
            "-5\n",
            "-12\n",
            "-12\n",
            "-6\n",
            "-1\n",
            "-3\n",
            "-11\n"
          ]
        }
      ]
    },
    {
      "cell_type": "code",
      "source": [
        "#Task 14:\n",
        "\n",
        "myList = [0, 0, 0, 0, 0, 0, 0, 0, 0, 0]\n",
        "b = []\n",
        "index1 = 0\n",
        "index2 = 0\n",
        "index1 = 1\n",
        "b = myList\n",
        "while(index1<10):\n",
        "  myList[index1] = index1+2\n",
        "  index2 = 1\n",
        "  while(index2<index1):\n",
        "    myList[index1] = b[index1]+myList[index2]-index1\n",
        "    index2 = index2+1\n",
        "  print(myList[index1])\n",
        "  index1 = index1+1"
      ],
      "metadata": {
        "colab": {
          "base_uri": "https://localhost:8080/"
        },
        "id": "XrQRk_biAkWC",
        "outputId": "53e8ef38-54d5-4f8b-f018-c8e649faff4c"
      },
      "execution_count": null,
      "outputs": [
        {
          "output_type": "stream",
          "name": "stdout",
          "text": [
            "3\n",
            "5\n",
            "7\n",
            "9\n",
            "11\n",
            "13\n",
            "15\n",
            "17\n",
            "19\n"
          ]
        }
      ]
    },
    {
      "cell_type": "code",
      "source": [
        "#Task 15:\n",
        "\n",
        "myList = [0, 0, 0, 0, 0, 0, 0, 0, 0, 0]\n",
        "b = []\n",
        "index1 = 0\n",
        "index2 = 0\n",
        "index1 = 1\n",
        "b = myList\n",
        "while (index1 < 10):\n",
        "  myList[index1] = index1 + 1\n",
        "  index2 = 1\n",
        "  while (index2 < index1):\n",
        "    myList[index1] = b[index2-1] + myList[index2] - index1\n",
        "    index2 = index2 + 1\n",
        "  print(myList[index1])\n",
        "  index1 = index1 + 1"
      ],
      "metadata": {
        "colab": {
          "base_uri": "https://localhost:8080/"
        },
        "id": "bQaj_cLaAqkQ",
        "outputId": "9e687904-a6f3-4e4c-85ed-7ad4461b93b4"
      },
      "execution_count": null,
      "outputs": [
        {
          "output_type": "stream",
          "name": "stdout",
          "text": [
            "2\n",
            "0\n",
            "-1\n",
            "-5\n",
            "-11\n",
            "-22\n",
            "-40\n",
            "-70\n",
            "-119\n"
          ]
        }
      ]
    },
    {
      "cell_type": "code",
      "source": [
        "l1 = []\n",
        "for i in range(5):\n",
        "    num= int(input())\n",
        "    l1.append(num)\n",
        "    print('Numbers in the list:',l1)"
      ],
      "metadata": {
        "colab": {
          "base_uri": "https://localhost:8080/"
        },
        "id": "HCGb4RZoc7Fb",
        "outputId": "eaaf8be9-4317-4b63-ac83-1d8eef962e9e"
      },
      "execution_count": null,
      "outputs": [
        {
          "output_type": "stream",
          "name": "stdout",
          "text": [
            "3\n",
            "Numbers in the list: [3]\n",
            "5\n",
            "Numbers in the list: [3, 5]\n",
            "34\n",
            "Numbers in the list: [3, 5, 34]\n",
            "-11\n",
            "Numbers in the list: [3, 5, 34, -11]\n",
            "0\n",
            "Numbers in the list: [3, 5, 34, -11, 0]\n"
          ]
        }
      ]
    },
    {
      "cell_type": "code",
      "source": [
        "num = input()\n",
        "num2= num.split(', ')\n",
        "lst1 = []\n",
        "if len(num2)<4:\n",
        "    print('Not possible.')\n",
        "else:\n",
        "    for i in num2:\n",
        "        lst1.append(int(i))\n",
        "print(lst1)"
      ],
      "metadata": {
        "colab": {
          "base_uri": "https://localhost:8080/"
        },
        "id": "m533MdZ3dddh",
        "outputId": "06093a86-fce6-4173-81b7-bb5962bc8fca"
      },
      "execution_count": null,
      "outputs": [
        {
          "output_type": "stream",
          "name": "stdout",
          "text": [
            "10, 20, 24, 25, 26, 35, 70\n",
            "[10, 20, 24, 25, 26, 35, 70]\n"
          ]
        }
      ]
    },
    {
      "cell_type": "code",
      "source": [
        "lst1 = []\n",
        "for i in range(5):\n",
        "    num = int(input())\n",
        "    lst1.append(num)\n",
        "    y=lst1[-1::-1]\n",
        "print('Printing the value from the reverse order:')\n",
        "for i in y:\n",
        "    print(i)"
      ],
      "metadata": {
        "colab": {
          "base_uri": "https://localhost:8080/"
        },
        "id": "TH2V8wYGgaIy",
        "outputId": "5c0ebc0a-1b78-4624-aa06-bb03f258c5c4"
      },
      "execution_count": null,
      "outputs": [
        {
          "output_type": "stream",
          "name": "stdout",
          "text": [
            "5\n",
            "6\n",
            "7\n",
            "8\n",
            "9\n",
            "Printing the value from the reverse order:\n",
            "9\n",
            "8\n",
            "7\n",
            "6\n",
            "5\n"
          ]
        }
      ]
    },
    {
      "cell_type": "code",
      "source": [
        "given = [3, 5, 1, 6]\n",
        "new = []\n",
        "for i in given:\n",
        "    new.append(i**2)\n",
        "print(new)"
      ],
      "metadata": {
        "colab": {
          "base_uri": "https://localhost:8080/"
        },
        "id": "JuJ8hMH9hlBf",
        "outputId": "a676a535-4f91-4d74-8e13-afe2a9bdce46"
      },
      "execution_count": null,
      "outputs": [
        {
          "output_type": "stream",
          "name": "stdout",
          "text": [
            "[9, 25, 1, 36]\n"
          ]
        }
      ]
    },
    {
      "cell_type": "code",
      "source": [
        "given = [\"hey\", \"there\", \"\", \"what's\", \"\", \"up\", \"\", \"?\"]\n",
        "new = []\n",
        "for i in given:\n",
        "    if i!=\"\":\n",
        "        new.append(i)\n",
        "print('Orginal List: ',given)\n",
        "print('Modified List: ',new)"
      ],
      "metadata": {
        "colab": {
          "base_uri": "https://localhost:8080/"
        },
        "id": "aQTMrrIUii9w",
        "outputId": "3c45ba0f-9d19-44f8-8b36-d58ba4120274"
      },
      "execution_count": null,
      "outputs": [
        {
          "output_type": "stream",
          "name": "stdout",
          "text": [
            "Orginal List:  ['hey', 'there', '', \"what's\", '', 'up', '', '?']\n",
            "Modified List:  ['hey', 'there', \"what's\", 'up', '?']\n"
          ]
        }
      ]
    },
    {
      "cell_type": "code",
      "source": [
        "import math\n",
        "given = input()\n",
        "new = []\n",
        "index = 0\n",
        "given=given.split(', ')\n",
        "for i in given:\n",
        "    new.append(int(i))\n",
        "max= -math.inf\n",
        "for i in new:\n",
        "    if i>=max:\n",
        "        max=i\n",
        "index = new.index(max)\n",
        "print('My list:',new)\n",
        "print(f'Largest number in the list is {max} which was found at index {index}.')"
      ],
      "metadata": {
        "colab": {
          "base_uri": "https://localhost:8080/"
        },
        "id": "F6mhREGdkLT5",
        "outputId": "ce65a5c9-158d-403e-d62f-765ed9af2111"
      },
      "execution_count": null,
      "outputs": [
        {
          "output_type": "stream",
          "name": "stdout",
          "text": [
            "7, 13, 2, 10, 6, -11, 0\n",
            "My list: [7, 13, 2, 10, 6, -11, 0]\n",
            "Largest number in the list is 13 which was found at index 1.\n"
          ]
        }
      ]
    },
    {
      "cell_type": "code",
      "source": [
        "import math\n",
        "given = input()\n",
        "given = given.split(',')\n",
        "new = []\n",
        "index = 0\n",
        "for i in given:\n",
        "    new.append(int(i))\n",
        "math.inf\n",
        "for i in new:\n",
        "    if i>=max:\n",
        "        max = i\n",
        "index = new.index(max)\n",
        "print('My list: ',new)\n",
        "print(f'Largest number in the list is {13} which was found in index {index}.')"
      ],
      "metadata": {
        "colab": {
          "base_uri": "https://localhost:8080/"
        },
        "id": "tiLpJ2jYm59f",
        "outputId": "9bdb5913-d76f-43f9-d89b-0f002166ed81"
      },
      "execution_count": null,
      "outputs": [
        {
          "output_type": "stream",
          "name": "stdout",
          "text": [
            "7, 13, 2, 10, 6, -11, 0\n",
            "My list:  [7, 13, 2, 10, 6, -11, 0]\n",
            "Largest number in the list is 13 which was found in index 1.\n"
          ]
        }
      ]
    },
    {
      "cell_type": "markdown",
      "source": [
        "#Task 07"
      ],
      "metadata": {
        "id": "_IBrOyMZqIKk"
      }
    },
    {
      "cell_type": "code",
      "source": [
        "lst1 = [1,2,3,4,5]\n",
        "lst2 = [6,7,8,9,10]\n",
        "lst1[-1:]=lst2\n",
        "print(lst1)"
      ],
      "metadata": {
        "colab": {
          "base_uri": "https://localhost:8080/"
        },
        "id": "4XsRMwScovo2",
        "outputId": "9a6575af-eeca-4aa0-fe50-4d4b22db99a7"
      },
      "execution_count": null,
      "outputs": [
        {
          "output_type": "stream",
          "name": "stdout",
          "text": [
            "[1, 2, 3, 4, 6, 7, 8, 9, 10]\n"
          ]
        }
      ]
    },
    {
      "cell_type": "code",
      "source": [
        "lst1 = [1,2,3,4,5]\n",
        "lst2 = [6,7,8,9,10]\n",
        "lst1[len(lst1)-1:]=lst2\n",
        "print(lst1)"
      ],
      "metadata": {
        "colab": {
          "base_uri": "https://localhost:8080/"
        },
        "id": "7CeUctFDpoS9",
        "outputId": "fce23880-3a39-4e86-c529-aab8eed95608"
      },
      "execution_count": null,
      "outputs": [
        {
          "output_type": "stream",
          "name": "stdout",
          "text": [
            "[1, 2, 3, 4, 6, 7, 8, 9, 10]\n"
          ]
        }
      ]
    },
    {
      "cell_type": "code",
      "source": [
        "lst1 = [1,2,3,4,5]\n",
        "lst2 = [6,7,8,9,10]\n",
        "lst1[-1]=lst2\n",
        "print(lst1)"
      ],
      "metadata": {
        "colab": {
          "base_uri": "https://localhost:8080/"
        },
        "id": "NNNlA8lHptV1",
        "outputId": "9a849033-1552-4eb9-c283-cebdc2ffec3d"
      },
      "execution_count": null,
      "outputs": [
        {
          "output_type": "stream",
          "name": "stdout",
          "text": [
            "[1, 2, 3, 4, [6, 7, 8, 9, 10]]\n"
          ]
        }
      ]
    },
    {
      "cell_type": "code",
      "source": [
        "lst1 = [1,2,3,4,5]\n",
        "lst2 = [6,7,8,9,10]\n",
        "lst1[len(lst1)-1]=lst2\n",
        "print(lst1)"
      ],
      "metadata": {
        "colab": {
          "base_uri": "https://localhost:8080/"
        },
        "id": "n9D794MxpvyF",
        "outputId": "6169a8bf-656b-45c8-a427-768cd8483c49"
      },
      "execution_count": null,
      "outputs": [
        {
          "output_type": "stream",
          "name": "stdout",
          "text": [
            "[1, 2, 3, 4, [6, 7, 8, 9, 10]]\n"
          ]
        }
      ]
    },
    {
      "cell_type": "code",
      "source": [
        "lst1 = [1,2,3,4,5]\n",
        "lst2 = [6,7,8,9,10]\n",
        "lst1[len(lst1):]=lst2\n",
        "print(lst1)"
      ],
      "metadata": {
        "colab": {
          "base_uri": "https://localhost:8080/"
        },
        "id": "lZmDifqMp9kl",
        "outputId": "4a9a20fb-f473-400a-cec2-3666ec8f473c"
      },
      "execution_count": null,
      "outputs": [
        {
          "output_type": "stream",
          "name": "stdout",
          "text": [
            "[1, 2, 3, 4, 5, 6, 7, 8, 9, 10]\n"
          ]
        }
      ]
    }
  ]
}