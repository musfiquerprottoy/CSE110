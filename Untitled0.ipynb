{
  "nbformat": 4,
  "nbformat_minor": 0,
  "metadata": {
    "colab": {
      "provenance": []
    },
    "kernelspec": {
      "name": "python3",
      "display_name": "Python 3"
    },
    "language_info": {
      "name": "python"
    }
  },
  "cells": [
    {
      "cell_type": "code",
      "source": [
        "#Task 01:\n",
        "def bubble_sort(my_list):\n",
        "    # We set the flag to True so that the loop runs at least once\n",
        "    flag = True\n",
        "    while flag:\n",
        "        # Set the flag to False to begin with\n",
        "        flag = False\n",
        "        # Iterate through the list, except the last element\n",
        "        for i in range(len(my_list) - 1):\n",
        "            # If the element on the left is greater than the element on the right, swap their positions\n",
        "            if my_list[i] > my_list[i+1]:\n",
        "                my_list[i], my_list[i+1] = my_list[i+1], my_list[i]\n",
        "                # Set the flag to True since we made a swap\n",
        "                flag = True\n",
        "    # Return the sorted list\n",
        "    return my_list\n",
        "\n",
        "# Test the function\n",
        "my_list = [10, 1, 20, 3, 6, 2, 5, 11, 15, 2, 12, 14, 17, 18, 29]\n",
        "sorted_list = bubble_sort(my_list)\n",
        "print(sorted_list)"
      ],
      "metadata": {
        "id": "DkbW8F8nUj2a",
        "colab": {
          "base_uri": "https://localhost:8080/"
        },
        "outputId": "40ba9e18-4015-4282-d738-5a6418631e20"
      },
      "execution_count": null,
      "outputs": [
        {
          "output_type": "stream",
          "name": "stdout",
          "text": [
            "[1, 2, 2, 3, 5, 6, 10, 11, 12, 14, 15, 17, 18, 20, 29]\n"
          ]
        }
      ]
    },
    {
      "cell_type": "code",
      "source": [
        "#Task 02:\n",
        "def selection_sort(my_list):\n",
        "    # Iterate through the list, except the last element\n",
        "    for i in range(len(my_list) - 1):\n",
        "        # Set the minimum element to the current position\n",
        "        min_index = i\n",
        "        # Iterate through the rest of the list, starting from the next position\n",
        "        for j in range(i+1, len(my_list)):\n",
        "            # If the current element is less than the minimum element, set it as the new minimum element\n",
        "            if my_list[j] < my_list[min_index]:\n",
        "                min_index = j\n",
        "        # If the minimum element has changed, swap its position with the current position\n",
        "        if min_index != i:\n",
        "            my_list[i], my_list[min_index] = my_list[min_index], my_list[i]\n",
        "    # Return the sorted list\n",
        "    return my_list\n",
        "\n",
        "# Test the function\n",
        "my_list = [10, 1, 20, 3, 6, 2, 5, 11, 15, 2, 12, 14, 17, 18, 29]\n",
        "sorted_list = selection_sort(my_list)\n",
        "print(sorted_list)"
      ],
      "metadata": {
        "colab": {
          "base_uri": "https://localhost:8080/"
        },
        "id": "Ucpes_XmZQiU",
        "outputId": "917d6de0-12de-45fe-d442-cabfd8f6e796"
      },
      "execution_count": null,
      "outputs": [
        {
          "output_type": "stream",
          "name": "stdout",
          "text": [
            "[1, 2, 2, 3, 5, 6, 10, 11, 12, 14, 15, 17, 18, 20, 29]\n"
          ]
        }
      ]
    },
    {
      "cell_type": "code",
      "source": [
        "#Task 03:\n",
        "def bubble_sort(my_list):\n",
        "    # We set the flag to True so that the loop runs at least once\n",
        "    flag = True\n",
        "    while flag:\n",
        "        # Set the flag to False to begin with\n",
        "        flag = False\n",
        "        # Iterate through the list, except the last element\n",
        "        for i in range(len(my_list) - 1):\n",
        "            # If the element on the left is less than the element on the right, swap their positions\n",
        "            if my_list[i] < my_list[i+1]:\n",
        "                my_list[i], my_list[i+1] = my_list[i+1], my_list[i]\n",
        "                # Set the flag to True since we made a swap\n",
        "                flag = True\n",
        "    # Return the sorted list\n",
        "    return my_list\n",
        "\n",
        "# Test the function\n",
        "my_list = [10, 1, 20, 3, 6, 2, 5, 11, 15, 2, 12, 14, 17, 18, 29]\n",
        "sorted_list = bubble_sort(my_list)\n",
        "print(sorted_list)"
      ],
      "metadata": {
        "colab": {
          "base_uri": "https://localhost:8080/"
        },
        "id": "f446seyEZeBZ",
        "outputId": "27aa640b-4488-4a8c-89c9-f5360ccd8aae"
      },
      "execution_count": null,
      "outputs": [
        {
          "output_type": "stream",
          "name": "stdout",
          "text": [
            "[29, 20, 18, 17, 15, 14, 12, 11, 10, 6, 5, 3, 2, 2, 1]\n"
          ]
        }
      ]
    },
    {
      "cell_type": "code",
      "source": [
        "#Task 04:\n",
        "def organize_sitting_arrangement(sitting_list):\n",
        "    # Create an empty list for the even indices\n",
        "    even_indices = []\n",
        "    # Iterate through the list and add the elements at even indices to the even_indices list\n",
        "    for i in range(0, len(sitting_list), 2):\n",
        "        even_indices.append(sitting_list[i])\n",
        "    # Sort the even_indices list in ascending order\n",
        "    even_indices.sort()\n",
        "\n",
        "    # Create an empty list for the odd indices\n",
        "    odd_indices = []\n",
        "    # Iterate through the list and add the elements at odd indices to the odd_indices list\n",
        "    for i in range(1, len(sitting_list), 2):\n",
        "        odd_indices.append(sitting_list[i])\n",
        "    # Sort the odd_indices list in descending order\n",
        "    odd_indices.sort(reverse=True)\n",
        "\n",
        "    # Create an empty list for the organized sitting arrangement\n",
        "    organized_sitting = []\n",
        "    # Iterate through the even_indices list and the odd_indices list, alternating between them\n",
        "    for i in range(len(even_indices)):\n",
        "        organized_sitting.append(even_indices[i])\n",
        "        # If there are still elements in the odd_indices list, add the next one to the organized_sitting list\n",
        "        if i < len(odd_indices):\n",
        "            organized_sitting.append(odd_indices[i])\n",
        "    # Return the organized sitting arrangement\n",
        "    return organized_sitting\n",
        "\n",
        "# Test the function\n",
        "sitting_list = [10,30,20,70,11,15,22,16,58,100,12,56,70,80]\n",
        "organized_sitting = organize_sitting_arrangement(sitting_list)\n",
        "print(organized_sitting)"
      ],
      "metadata": {
        "colab": {
          "base_uri": "https://localhost:8080/"
        },
        "id": "5ktHxHfpaBty",
        "outputId": "421b8361-f7e4-4aa4-96a8-73dbbeec5f01"
      },
      "execution_count": null,
      "outputs": [
        {
          "output_type": "stream",
          "name": "stdout",
          "text": [
            "[10, 100, 11, 80, 12, 70, 20, 56, 22, 30, 58, 16, 70, 15]\n"
          ]
        }
      ]
    },
    {
      "cell_type": "code",
      "source": [
        "#Task 05:\n",
        "def sort_students_by_marks(lst):\n",
        "    # Get the course name from the user\n",
        "    course_name = input(\"Enter the course name: \")\n",
        "\n",
        "    # Map the course name to the index of the marks in the nested lists\n",
        "    course_index_map = {\"CSE110\": 1, \"PHY111\": 2, \"MAT110\": 3}\n",
        "    # Get the index of the marks for the specified course\n",
        "    course_index = course_index_map[course_name]\n",
        "\n",
        "    # Sort the list using the marks for the specified course as the sorting key\n",
        "    sorted_lst = sorted(lst, key=lambda x: x[course_index], reverse=True)\n",
        "    # Extract the names of the students from the sorted list\n",
        "    sorted_names = [student[0] for student in sorted_lst]\n",
        "    # Return the sorted names\n",
        "    return sorted_names\n",
        "\n",
        "# Test the function\n",
        "lst = [ [\"Alan\", 95, 87, 91], [\"Turing\", 92, 90, 83], [\"Elon\", 87, 92, 80], [\"Musk\", 85, 94, 90] ]\n",
        "sorted_names = sort_students_by_marks(lst)\n",
        "print(sorted_names)"
      ],
      "metadata": {
        "colab": {
          "base_uri": "https://localhost:8080/"
        },
        "id": "IAnH4aV2ac7h",
        "outputId": "6bca9cbf-1439-494d-a30e-75ee93e641c6"
      },
      "execution_count": null,
      "outputs": [
        {
          "output_type": "stream",
          "name": "stdout",
          "text": [
            "Enter the course name: MAT110\n",
            "['Alan', 'Musk', 'Turing', 'Elon']\n"
          ]
        }
      ]
    },
    {
      "cell_type": "code",
      "source": [
        "#Task 06:\n",
        "def sort_and_count(my_list):\n",
        "    # We set the flag to True so that the loop runs at least once\n",
        "    flag = True\n",
        "    # Initialize the count of swaps to zero\n",
        "    count = 0\n",
        "    while flag:\n",
        "        # Set the flag to False to begin with\n",
        "        flag = False\n",
        "        # Iterate through the list, except the last element\n",
        "        for i in range(len(my_list) - 1):\n",
        "            # If the element on the left is greater than the element on the right, swap their positions\n",
        "            if my_list[i] > my_list[i+1]:\n",
        "                my_list[i], my_list[i+1] = my_list[i+1], my_list[i]\n",
        "                # Set the flag to True since we made a swap\n",
        "                flag = True\n",
        "                # Increment the count of swaps\n",
        "                count += 1\n",
        "    # Return the sorted list and the count of swaps\n",
        "    return my_list, count\n",
        "\n",
        "# Test the function\n",
        "my_list = [4, 2, 3, 1, 6, 5]\n",
        "sorted_list, count = sort_and_count(my_list)\n",
        "print(sorted_list)\n",
        "print(count)"
      ],
      "metadata": {
        "colab": {
          "base_uri": "https://localhost:8080/"
        },
        "id": "8eySMh12bODP",
        "outputId": "cf22d0f9-2612-4d89-8468-c9dac5379afc"
      },
      "execution_count": null,
      "outputs": [
        {
          "output_type": "stream",
          "name": "stdout",
          "text": [
            "[1, 2, 3, 4, 5, 6]\n",
            "6\n"
          ]
        }
      ]
    },
    {
      "cell_type": "code",
      "source": [
        "#Task 07:\n",
        "def find_median(list1, list2):\n",
        "    # Merge the two lists\n",
        "    merged_list = list1 + list2\n",
        "    # Sort the merged list\n",
        "    sorted_list = sorted(merged_list)\n",
        "    # Find the length of the list\n",
        "    n = len(sorted_list)\n",
        "    # If the length of the list is odd, return the middle element\n",
        "    if n % 2 == 1:\n",
        "        return sorted_list[n // 2]\n",
        "    # If the length of the list is even, return the average of the two middle elements\n",
        "    else:\n",
        "        return (sorted_list[n // 2 - 1] + sorted_list[n // 2]) / 2\n",
        "\n",
        "# Test the function\n",
        "list1 = [3, 6, 7, 8]\n",
        "list2 = [1, 2, 4, 5]\n",
        "median = find_median(list1, list2)\n",
        "print(median)"
      ],
      "metadata": {
        "colab": {
          "base_uri": "https://localhost:8080/"
        },
        "id": "eMiIIU4tbX8J",
        "outputId": "a8226fd8-09a3-4476-b988-8725ec1335fc"
      },
      "execution_count": null,
      "outputs": [
        {
          "output_type": "stream",
          "name": "stdout",
          "text": [
            "4.5\n"
          ]
        }
      ]
    },
    {
      "cell_type": "code",
      "source": [
        "#Task 07:\n",
        "def find_median(list1, list2):\n",
        "    # Merge the two lists\n",
        "    merged_list = list1 + list2\n",
        "    # Sort the merged list\n",
        "    sorted_list = sorted(merged_list)\n",
        "    # Find the length of the list\n",
        "    n = len(sorted_list)\n",
        "    # If the length of the list is odd, return the middle element\n",
        "    if n % 2 == 1:\n",
        "        return sorted_list[n // 2]\n",
        "    # If the length of the list is even, return the average of the two middle elements\n",
        "    else:\n",
        "        return (sorted_list[n // 2 - 1] + sorted_list[n // 2]) / 2\n",
        "\n",
        "# Test the function\n",
        "list1 = [1, 2, 1, 4]\n",
        "list2 = [5, 4, 1]\n",
        "median = find_median(list1, list2)\n",
        "print(median)\n"
      ],
      "metadata": {
        "colab": {
          "base_uri": "https://localhost:8080/"
        },
        "id": "0syHw5YkcF3w",
        "outputId": "44ca9763-9369-4902-8c76-866d6cbb3c7e"
      },
      "execution_count": null,
      "outputs": [
        {
          "output_type": "stream",
          "name": "stdout",
          "text": [
            "2\n"
          ]
        }
      ]
    },
    {
      "cell_type": "code",
      "source": [
        "#Task 08:\n",
        "def find_closest_pairs():\n",
        "    # Get the list as input from the user\n",
        "    my_list_str = input(\"Enter the list: \")\n",
        "    # Convert the string to a list of integers\n",
        "    my_list = list(map(int, my_list_str.split()))\n",
        "    # Initialize the closest sum to be the maximum possible value\n",
        "    closest_sum = float(\"inf\")\n",
        "    # Initialize the pairs to be empty\n",
        "    pairs = []\n",
        "    # Iterate through the list\n",
        "    for i in range(len(my_list)):\n",
        "        for j in range(i + 1, len(my_list)):\n",
        "            # Calculate the sum of the current pair\n",
        "            current_sum = my_list[i] + my_list[j]\n",
        "            # If the absolute value of the current sum is less than the closest sum, update the closest sum and the pairs\n",
        "            if abs(current_sum) < abs(closest_sum):\n",
        "                closest_sum = current_sum\n",
        "                pairs = [my_list[i], my_list[j]]\n",
        "    # Return the pairs\n",
        "    return pairs\n"
      ],
      "metadata": {
        "id": "h9puPkfbcPrd"
      },
      "execution_count": null,
      "outputs": []
    },
    {
      "cell_type": "code",
      "source": [
        "#Task 09:\n",
        "import math\n",
        "\n",
        "def find_closest_point():\n",
        "    # Get the list of points as input from the user\n",
        "    points_str = input(\"Enter the list of points: \")\n",
        "    # Convert the string to a list of tuples\n",
        "    points = []\n",
        "    for point_str in points_str.split():\n",
        "        x, y = map(int, point_str.split(\",\"))\n",
        "        points.append((x, y))\n",
        "    # Initialize the minimum distance to be the maximum possible value\n",
        "    min_distance = float(\"inf\")\n",
        "    # Initialize the closest point to be None\n",
        "    closest_point = None\n",
        "    # Iterate through the points\n",
        "    for point in points:\n",
        "        # Calculate the distance from the origin\n",
        "        distance = math.sqrt(point[0]**2 + point[1]**2)\n",
        "        # If the distance is less than the minimum distance, update the minimum distance and the closest point\n",
        "        if distance < min_distance:\n",
        "            min_distance = distance\n",
        "            closest_point = point\n",
        "    # Return the closest point\n",
        "    return closest_point"
      ],
      "metadata": {
        "id": "c1LbP4-Sc9FD"
      },
      "execution_count": null,
      "outputs": []
    }
  ]
}