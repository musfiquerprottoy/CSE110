{
  "nbformat": 4,
  "nbformat_minor": 0,
  "metadata": {
    "colab": {
      "provenance": []
    },
    "kernelspec": {
      "name": "python3",
      "display_name": "Python 3"
    },
    "language_info": {
      "name": "python"
    }
  },
  "cells": [
    {
      "cell_type": "code",
      "source": [
        "#Task 01(a):\n",
        "for i in range(24,-6-1,-6):\n",
        "    if i==-6:\n",
        "        print(i,end=\"\")\n",
        "    else:\n",
        "        print(i,end=\",\")"
      ],
      "metadata": {
        "colab": {
          "base_uri": "https://localhost:8080/"
        },
        "id": "9Cqmi5eh8oxW",
        "outputId": "629ef566-4919-4a35-925b-523c1abf6bf4"
      },
      "execution_count": null,
      "outputs": [
        {
          "output_type": "stream",
          "name": "stdout",
          "text": [
            "24,18,12,6,0,-6"
          ]
        }
      ]
    },
    {
      "cell_type": "code",
      "source": [
        "#Task 01(b):\n",
        "for i in range(-10,20+1,5):\n",
        "    if i==20:\n",
        "        print(i,end=\"\")\n",
        "    else:\n",
        "        print(i,end=\",\")"
      ],
      "metadata": {
        "colab": {
          "base_uri": "https://localhost:8080/"
        },
        "id": "zs2gefsOWEVC",
        "outputId": "07f62efe-bcab-4a6a-9416-6ab87a21fff1"
      },
      "execution_count": null,
      "outputs": [
        {
          "output_type": "stream",
          "name": "stdout",
          "text": [
            "-10,-5,0,5,10,15,20"
          ]
        }
      ]
    },
    {
      "cell_type": "code",
      "source": [
        "#Task 01(c):\n",
        "for i in range(18,63+1,9):\n",
        "    if i==63:\n",
        "        print(i,end=\"\")\n",
        "    else:\n",
        "        print(i,end=\",\")"
      ],
      "metadata": {
        "colab": {
          "base_uri": "https://localhost:8080/"
        },
        "id": "_0UohGI3W3te",
        "outputId": "5b51c038-4b96-458f-f332-9198ee6afee1"
      },
      "execution_count": null,
      "outputs": [
        {
          "output_type": "stream",
          "name": "stdout",
          "text": [
            "18,27,36,45,54,63"
          ]
        }
      ]
    },
    {
      "cell_type": "code",
      "source": [
        "#Task 01(d)\n",
        "for i in range(18,63+1,9):\n",
        "    if i%2!=0:\n",
        "        i= i*-1\n",
        "        if i==-63:\n",
        "            print(i,end=\"\")\n",
        "        else:\n",
        "            print(i,end=\",\")\n",
        "    else:\n",
        "        print(i,end=\",\")"
      ],
      "metadata": {
        "colab": {
          "base_uri": "https://localhost:8080/"
        },
        "id": "1GRW9Uw1XLbT",
        "outputId": "f4c3a917-0d93-4a2b-c98c-83fe98472093"
      },
      "execution_count": null,
      "outputs": [
        {
          "output_type": "stream",
          "name": "stdout",
          "text": [
            "18,-27,36,-45,54,-63"
          ]
        }
      ]
    },
    {
      "cell_type": "code",
      "source": [
        "#Task 02:\n",
        "name = input(\"Please enter your favourite car name:\")\n",
        "num = int(input(\"Please enter a number: \"))\n",
        "for i in range(num):\n",
        "    print(name)"
      ],
      "metadata": {
        "colab": {
          "base_uri": "https://localhost:8080/"
        },
        "id": "LibdZKCNZG7W",
        "outputId": "4eafc838-7f08-4d9c-c127-bd1bdcbb35e7"
      },
      "execution_count": null,
      "outputs": [
        {
          "output_type": "stream",
          "name": "stdout",
          "text": [
            "Please enter your favourite car name:Toyota\n",
            "Please enter a number: 2\n",
            "Toyota\n",
            "Toyota\n"
          ]
        }
      ]
    },
    {
      "cell_type": "code",
      "source": [
        "#Task 03:\n",
        "sum = 0\n",
        "for i in range(600+1):\n",
        "    if i%7==0 and i%9==0:\n",
        "        sum+=i\n",
        "print(sum)"
      ],
      "metadata": {
        "colab": {
          "base_uri": "https://localhost:8080/"
        },
        "id": "-aY7DY55Zjat",
        "outputId": "fbffe45c-6885-4005-811b-7ef6fccbb4c2"
      },
      "execution_count": null,
      "outputs": [
        {
          "output_type": "stream",
          "name": "stdout",
          "text": [
            "2835\n"
          ]
        }
      ]
    },
    {
      "cell_type": "code",
      "source": [
        "#Task 04:\n",
        "sum = 0\n",
        "for i in range(601):\n",
        "    if i%7==0 and i%9!=0:\n",
        "        sum+=i\n",
        "    elif i%7!=0 and i%9==0:\n",
        "        sum+=i\n",
        "print(sum)"
      ],
      "metadata": {
        "colab": {
          "base_uri": "https://localhost:8080/"
        },
        "id": "jPVe7vtLZ3rI",
        "outputId": "4ae34551-eef5-4d7f-c680-baddc18dcf09"
      },
      "execution_count": null,
      "outputs": [
        {
          "output_type": "stream",
          "name": "stdout",
          "text": [
            "39814\n"
          ]
        }
      ]
    },
    {
      "cell_type": "code",
      "source": [
        "#Task 05:\n",
        "for i in range(10,50+1):\n",
        "    if i%2!=0:\n",
        "        print(i,end=\" \")"
      ],
      "metadata": {
        "colab": {
          "base_uri": "https://localhost:8080/"
        },
        "id": "dTLq4SP1aSx8",
        "outputId": "42776030-dc38-4c5a-fde5-53935be8b3b4"
      },
      "execution_count": null,
      "outputs": [
        {
          "output_type": "stream",
          "name": "stdout",
          "text": [
            "11 13 15 17 19 21 23 25 27 29 31 33 35 37 39 41 43 45 47 49 "
          ]
        }
      ]
    },
    {
      "cell_type": "code",
      "source": [
        "#Task 06:\n",
        "num = int(input())\n",
        "sum = 0\n",
        "for i in range(num+1):\n",
        "    if i%2==0:\n",
        "        sum+=-1*(i**2)\n",
        "    else:\n",
        "        sum+=(i**2)\n",
        "print(sum)"
      ],
      "metadata": {
        "colab": {
          "base_uri": "https://localhost:8080/"
        },
        "id": "G39G4wzyajEY",
        "outputId": "599664a4-c03d-4a99-d739-206ffa91c3c2"
      },
      "execution_count": null,
      "outputs": [
        {
          "output_type": "stream",
          "name": "stdout",
          "text": [
            "5\n",
            "15\n"
          ]
        }
      ]
    },
    {
      "cell_type": "code",
      "source": [
        "#Task 07:\n",
        "sum = 0\n",
        "count = 0\n",
        "for i in range (10):\n",
        "    num = int(input())\n",
        "    if num%2!=0:\n",
        "        sum+=num\n",
        "        count+=1\n",
        "print(\"The total of the odd number is\",sum,\"and the average is\",sum/count)"
      ],
      "metadata": {
        "colab": {
          "base_uri": "https://localhost:8080/"
        },
        "id": "Fb9Vnj7CcGR6",
        "outputId": "1e095bf9-f691-48cb-b650-7a0fdcb8ad63"
      },
      "execution_count": null,
      "outputs": [
        {
          "output_type": "stream",
          "name": "stdout",
          "text": [
            "1\n",
            "2\n",
            "3\n",
            "4\n",
            "5\n",
            "6\n",
            "7\n",
            "8\n",
            "9\n",
            "10\n",
            "The total of the odd number is 25 and the average is 5.0\n"
          ]
        }
      ]
    },
    {
      "cell_type": "code",
      "source": [
        "#Task 08:\n",
        "num = int(input())\n",
        "sum = 0\n",
        "for i in range(num+1):\n",
        "    if i%7==0:\n",
        "        sum+=i\n",
        "print(sum)"
      ],
      "metadata": {
        "colab": {
          "base_uri": "https://localhost:8080/"
        },
        "id": "rLqy-BYbc-kF",
        "outputId": "aad26e62-197d-4c64-a83a-96ed14a78862"
      },
      "execution_count": null,
      "outputs": [
        {
          "output_type": "stream",
          "name": "stdout",
          "text": [
            "50\n",
            "196\n"
          ]
        }
      ]
    },
    {
      "cell_type": "code",
      "source": [
        "#Task 09:\n",
        "sum = 0\n",
        "for i in range (5):\n",
        "    num = int(input())\n",
        "    sum+=num\n",
        "    print(sum)\n"
      ],
      "metadata": {
        "colab": {
          "base_uri": "https://localhost:8080/"
        },
        "id": "K2j60hSRdcqB",
        "outputId": "d688c340-6718-414b-adf5-784143f60631"
      },
      "execution_count": null,
      "outputs": [
        {
          "output_type": "stream",
          "name": "stdout",
          "text": [
            "1\n",
            "1\n",
            "2\n",
            "3\n",
            "3\n",
            "6\n",
            "4\n",
            "10\n",
            "5\n",
            "15\n"
          ]
        }
      ]
    },
    {
      "cell_type": "code",
      "source": [
        "#Task 10:\n",
        "num = int(input())\n",
        "while num>0:\n",
        "    if num//10==0:\n",
        "        print(num%10,end='')\n",
        "    else:\n",
        "        print(num%10,end=',')\n",
        "    num//=10"
      ],
      "metadata": {
        "id": "SUiMIgEJCzSc",
        "colab": {
          "base_uri": "https://localhost:8080/"
        },
        "outputId": "1c7c2582-45c9-44d3-9550-5d5e5e8eebe9"
      },
      "execution_count": null,
      "outputs": [
        {
          "output_type": "stream",
          "name": "stdout",
          "text": [
            "1234\n",
            "4,3,2,1"
          ]
        }
      ]
    },
    {
      "cell_type": "code",
      "source": [
        "# Task 11\n",
        "num = int(input())\n",
        "count = 0\n",
        "while num>0:\n",
        "    num= num//10\n",
        "    count+=1\n",
        "num//=10\n",
        "print(count)"
      ],
      "metadata": {
        "colab": {
          "base_uri": "https://localhost:8080/"
        },
        "id": "H2ps9DCmv99L",
        "outputId": "76a9a074-9867-4350-a73d-92b8490a48d3"
      },
      "execution_count": null,
      "outputs": [
        {
          "output_type": "stream",
          "name": "stdout",
          "text": [
            "456454\n",
            "6\n"
          ]
        }
      ]
    },
    {
      "cell_type": "code",
      "source": [
        "#Task 12:\n",
        "f = int(input(\"Please enter a numbre: \"))\n",
        "count = 0\n",
        "digit = len(str(f))\n",
        "print(digit)\n",
        "while (f>count):\n",
        "    num = f//10**(digit-count-1)\n",
        "    f = f%10**(digit-count-1)\n",
        "    if count==digit-1:\n",
        "        print(num,end=\" \")\n",
        "    else:\n",
        "        print(num,end=\",\")\n",
        "    count+=1"
      ],
      "metadata": {
        "id": "711RA0c_rTGU",
        "colab": {
          "base_uri": "https://localhost:8080/"
        },
        "outputId": "c4c0f34b-0b0b-4828-ea7c-0b195868fb84"
      },
      "execution_count": null,
      "outputs": [
        {
          "output_type": "stream",
          "name": "stdout",
          "text": [
            "Please enter a numbre: 1234\n",
            "4\n",
            "1,2,3,4 "
          ]
        }
      ]
    },
    {
      "cell_type": "code",
      "source": [
        "#Task 13:\n",
        "num = int(input(\"Please enter a number: \"))\n",
        "n = 0\n",
        "for i in range(1,num+1):\n",
        "    if (num%i==0):\n",
        "        print(i)\n",
        "        n= n+1\n",
        "print('Total devisors: ',n)"
      ],
      "metadata": {
        "colab": {
          "base_uri": "https://localhost:8080/"
        },
        "id": "s0nRId1yhBG9",
        "outputId": "627c5aa3-e767-49a7-dd37-1d82afdbe51d"
      },
      "execution_count": null,
      "outputs": [
        {
          "output_type": "stream",
          "name": "stdout",
          "text": [
            "Please enter a number: 6\n",
            "1\n",
            "2\n",
            "3\n",
            "6\n",
            "Total devisors:  4\n"
          ]
        }
      ]
    },
    {
      "cell_type": "code",
      "source": [
        "#Task 14:\n",
        "num = int(input(\"Please enter a number: \"))\n",
        "sum = 0\n",
        "for i in range(1,num):\n",
        "    if (num%i==0):\n",
        "        sum = sum+i\n",
        "if (sum==num):\n",
        "    print(\"This is a perfect number.\")\n",
        "else:\n",
        "    print(\"This is not a perfect number.\")"
      ],
      "metadata": {
        "colab": {
          "base_uri": "https://localhost:8080/"
        },
        "id": "uL0KOEdnjJAN",
        "outputId": "888b6c5d-eb49-491e-8052-eb400cec4114"
      },
      "execution_count": null,
      "outputs": [
        {
          "output_type": "stream",
          "name": "stdout",
          "text": [
            "Please enter a number: 6\n",
            "This is a perfect number.\n"
          ]
        }
      ]
    },
    {
      "cell_type": "code",
      "source": [
        "#Task 15:\n",
        "num = int(input(\"Please enter a number: \"))\n",
        "for i in range(2,num):\n",
        "    if (num%i==0):\n",
        "        print(str(num)+\" is not a prime number.\")\n",
        "        break\n",
        "else:\n",
        "    print(str(num)+\" is a prime number.\")"
      ],
      "metadata": {
        "colab": {
          "base_uri": "https://localhost:8080/"
        },
        "id": "0fZ0uMvypvBi",
        "outputId": "7a571d1a-6191-4958-a01e-e629782b4c86"
      },
      "execution_count": null,
      "outputs": [
        {
          "output_type": "stream",
          "name": "stdout",
          "text": [
            "Please enter a number: 10\n",
            "10 is not a prime number.\n"
          ]
        }
      ]
    },
    {
      "cell_type": "code",
      "source": [
        "#Task 16:\n",
        "y = int(input( ))\n",
        "sum = 0\n",
        "for i in range(1,y+1):\n",
        "    z = int(input())\n",
        "    sum +=z\n",
        "    if i==1:\n",
        "        max = z\n",
        "        min = z\n",
        "    elif z>max:\n",
        "        max = z\n",
        "    elif z<min:\n",
        "        min=z\n",
        "avg = sum/y\n",
        "print(\"Maximum number is: \",max)\n",
        "print(\"Minimum number is: \",min)\n",
        "print(\"Average is: \",avg)"
      ],
      "metadata": {
        "colab": {
          "base_uri": "https://localhost:8080/"
        },
        "id": "L5VgwOfekcei",
        "outputId": "c0a3045d-df7b-4f74-a538-11594a367afe"
      },
      "execution_count": null,
      "outputs": [
        {
          "output_type": "stream",
          "name": "stdout",
          "text": [
            "3\n",
            "10\n",
            "20\n",
            "30\n",
            "Maximum number is:  30\n",
            "Minimum number is:  10\n",
            "Average is:  20.0\n"
          ]
        }
      ]
    },
    {
      "cell_type": "code",
      "source": [
        "#Task 17:\n",
        "num = int(input(\"N= \"))\n",
        "for i in range(1,num+1):\n",
        "    for m in range (1,num+1):\n",
        "        print(\"+\",end=\" \")\n",
        "    print()"
      ],
      "metadata": {
        "colab": {
          "base_uri": "https://localhost:8080/"
        },
        "id": "KTl0YxOKqWpE",
        "outputId": "66b7063c-5ab3-43dd-d8de-fa9b1c35a280"
      },
      "execution_count": null,
      "outputs": [
        {
          "output_type": "stream",
          "name": "stdout",
          "text": [
            "N= 5\n",
            "+ + + + + \n",
            "+ + + + + \n",
            "+ + + + + \n",
            "+ + + + + \n",
            "+ + + + + \n"
          ]
        }
      ]
    },
    {
      "cell_type": "code",
      "source": [
        "#Task 18:\n",
        "num = int(input(\" \"))\n",
        "num_2 = int(input(\" \"))\n",
        "for i in range(1,num+1,1):\n",
        "    print( )\n",
        "    for i in range (1,num_2,1):\n",
        "        print(i,end=\" \")"
      ],
      "metadata": {
        "colab": {
          "base_uri": "https://localhost:8080/"
        },
        "id": "3R7sZkK5saT8",
        "outputId": "a7eab2f0-e907-4c11-b2bb-ccb71595776c"
      },
      "execution_count": null,
      "outputs": [
        {
          "output_type": "stream",
          "name": "stdout",
          "text": [
            " 4\n",
            " 6\n",
            "\n",
            "1 2 3 4 5 \n",
            "1 2 3 4 5 \n",
            "1 2 3 4 5 \n",
            "1 2 3 4 5 "
          ]
        }
      ]
    },
    {
      "cell_type": "code",
      "source": [
        "#Task 19:\n",
        "number = int(input(\" \"))\n",
        "for i in range(1,number+1,1):\n",
        "    for m in range (1,i+1,1):\n",
        "        print(m,end=\" \")\n",
        "    print()"
      ],
      "metadata": {
        "colab": {
          "base_uri": "https://localhost:8080/"
        },
        "id": "FKD49QkarYgs",
        "outputId": "b827d351-c022-4703-eaed-d89cd3fdfa1b"
      },
      "execution_count": null,
      "outputs": [
        {
          "output_type": "stream",
          "name": "stdout",
          "text": [
            " 4\n",
            "1 \n",
            "1 2 \n",
            "1 2 3 \n",
            "1 2 3 4 \n"
          ]
        }
      ]
    },
    {
      "cell_type": "code",
      "source": [
        "#Task 20:\n",
        "x = 0\n",
        "p =0\n",
        "sum = 0\n",
        "p = 1\n",
        "x = 2\n",
        "q = None\n",
        "sum = 0\n",
        "while p < 12:\n",
        "    q = x + p - (sum + 7 / 3) / 3.0 % 2\n",
        "    sum = sum + x + int(q)\n",
        "    x += 1\n",
        "    print(sum)\n",
        "    if x > 5:\n",
        "        p += 4 / 2\n",
        "    else:\n",
        "        p += (3 % 1)\n",
        "sum = int(sum + p)\n",
        "print(sum)\n",
        "\n"
      ],
      "metadata": {
        "colab": {
          "base_uri": "https://localhost:8080/"
        },
        "id": "XjIB5ACnvhpW",
        "outputId": "74381201-4428-456a-b2e4-4032e20529cb"
      },
      "execution_count": null,
      "outputs": [
        {
          "output_type": "stream",
          "name": "stdout",
          "text": [
            "4\n",
            "10\n",
            "18\n",
            "28\n",
            "42\n",
            "60\n",
            "82\n",
            "108\n",
            "138\n",
            "151\n"
          ]
        }
      ]
    },
    {
      "cell_type": "code",
      "source": [
        "#Task 21:\n",
        "x = 0\n",
        "p = 0\n",
        "sum = 0\n",
        "p = 1\n",
        "x = 2\n",
        "q = 0.0\n",
        "sum = 0\n",
        "while (p < 10) :\n",
        "  q = x + p - (sum + int(5 / 3)) / 3.0 % 2\n",
        "  sum = sum + x + int(q)\n",
        "  x += 1\n",
        "  print(sum)\n",
        "  if (x > 5) :\n",
        "    p += int(4 / 2)\n",
        "  else :\n",
        "    p += 3 % 1\n",
        "sum = sum + p\n",
        "print(sum)\n",
        "\n"
      ],
      "metadata": {
        "colab": {
          "base_uri": "https://localhost:8080/"
        },
        "id": "-lxo3uktvp6N",
        "outputId": "6fdaf603-bac0-4338-d61d-0d0bdf87141a"
      },
      "execution_count": null,
      "outputs": [
        {
          "output_type": "stream",
          "name": "stdout",
          "text": [
            "4\n",
            "9\n",
            "16\n",
            "25\n",
            "39\n",
            "56\n",
            "78\n",
            "104\n",
            "115\n"
          ]
        }
      ]
    },
    {
      "cell_type": "code",
      "source": [
        "#Task 22:\n",
        "x = y = 0\n",
        "sum = 0\n",
        "while (x < 10):\n",
        "  y = x - 3\n",
        "  while (y < 3):\n",
        "    sum = x - y * 2\n",
        "    print(sum)\n",
        "    y = y + 1\n",
        "  if (x > 7):\n",
        "    x += 1\n",
        "  else:\n",
        "    x += 3\n",
        "sum = x - y * 2\n",
        "print(sum)\n",
        "\n"
      ],
      "metadata": {
        "colab": {
          "base_uri": "https://localhost:8080/"
        },
        "id": "XFNIJefsvu3m",
        "outputId": "faaa5109-85bf-4feb-d6fd-c3ecb1ca3a18"
      },
      "execution_count": null,
      "outputs": [
        {
          "output_type": "stream",
          "name": "stdout",
          "text": [
            "6\n",
            "4\n",
            "2\n",
            "0\n",
            "-2\n",
            "-4\n",
            "3\n",
            "1\n",
            "-1\n",
            "-2\n"
          ]
        }
      ]
    },
    {
      "cell_type": "code",
      "source": [
        "#Task 23:\n",
        "x = 0\n",
        "y = 0\n",
        "sum = 0\n",
        "p = 0.0\n",
        "while (x < 10):\n",
        "    y = x // 2\n",
        "    while (y < x):\n",
        "        p = (x + 10.0) / 2\n",
        "        sum = (sum % 2) + x - y * 2 + int(p)\n",
        "        print(sum)\n",
        "        y = y + 2\n",
        "    if (x > 5):\n",
        "        x += 1\n",
        "    else:\n",
        "        x += 2\n",
        "\n"
      ],
      "metadata": {
        "colab": {
          "base_uri": "https://localhost:8080/"
        },
        "id": "YOQ78LdZv3m9",
        "outputId": "15dc59d0-edf5-4a37-a91d-fa8365907f07"
      },
      "execution_count": null,
      "outputs": [
        {
          "output_type": "stream",
          "name": "stdout",
          "text": [
            "6\n",
            "7\n",
            "9\n",
            "5\n",
            "10\n",
            "5\n",
            "10\n",
            "5\n",
            "11\n",
            "7\n",
            "3\n"
          ]
        }
      ]
    },
    {
      "cell_type": "code",
      "source": [
        "#Task 24:\n",
        "test = 1\n",
        "j = 0\n",
        "k = 100\n",
        "while (k > 0):\n",
        "  while ( j < k ):\n",
        "    test = k + j -21\n",
        "    print(str(1 + int (test / 2)))\n",
        "    j += 10\n",
        "  k -= 10\n",
        "test = 1\n",
        "j = 0\n",
        "k = 100\n",
        "\n"
      ],
      "metadata": {
        "colab": {
          "base_uri": "https://localhost:8080/"
        },
        "id": "qW7Viy2yv61u",
        "outputId": "ec627f9e-4657-4488-d80e-f7558c9a7ac2"
      },
      "execution_count": null,
      "outputs": [
        {
          "output_type": "stream",
          "name": "stdout",
          "text": [
            "40\n",
            "45\n",
            "50\n",
            "55\n",
            "60\n",
            "65\n",
            "70\n",
            "75\n",
            "80\n",
            "85\n"
          ]
        }
      ]
    },
    {
      "cell_type": "code",
      "source": [
        "#Task 25:\n",
        "num = int(input())\n",
        "a = 0\n",
        "b = 1\n",
        "for i in range(1,num+1):\n",
        "    print(a,end=' ')\n",
        "    i = a+b\n",
        "    a = b\n",
        "    b = i"
      ],
      "metadata": {
        "colab": {
          "base_uri": "https://localhost:8080/"
        },
        "id": "T3615yySy79A",
        "outputId": "d80db981-1d71-449f-aabb-3b09d8988e0e"
      },
      "execution_count": null,
      "outputs": [
        {
          "output_type": "stream",
          "name": "stdout",
          "text": [
            "10\n",
            "0 1 1 2 3 5 8 13 21 34 "
          ]
        }
      ]
    },
    {
      "cell_type": "code",
      "source": [
        "a = \"Done\"\n",
        "for i in range (0,10,1):\n",
        "    print(a,end=\"        \")"
      ],
      "metadata": {
        "colab": {
          "base_uri": "https://localhost:8080/"
        },
        "id": "taLACH4rxkLO",
        "outputId": "a2fb510d-f4ff-4b79-d9c7-f31709a8c112"
      },
      "execution_count": null,
      "outputs": [
        {
          "output_type": "stream",
          "name": "stdout",
          "text": [
            "Done        Done        Done        Done        Done        Done        Done        Done        Done        Done        "
          ]
        }
      ]
    },
    {
      "cell_type": "code",
      "source": [
        "num = int(input())\n",
        "a = 0\n",
        "b = 1\n",
        "while a<=num:\n",
        "    print(a,end=' ')\n",
        "    i = a+b\n",
        "    a = b\n",
        "    b = i"
      ],
      "metadata": {
        "colab": {
          "base_uri": "https://localhost:8080/"
        },
        "id": "J7gXzxDmz7i4",
        "outputId": "e10b1c29-832d-4d0a-aec4-613fedb8a358"
      },
      "execution_count": null,
      "outputs": [
        {
          "output_type": "stream",
          "name": "stdout",
          "text": [
            "10\n",
            "0 1 1 2 3 5 8 "
          ]
        }
      ]
    },
    {
      "cell_type": "code",
      "source": [
        "num = int(input())\n",
        "while num>0:\n",
        "    rem = num%10\n",
        "    print(rem,end='')\n",
        "    num//=10"
      ],
      "metadata": {
        "colab": {
          "base_uri": "https://localhost:8080/"
        },
        "id": "V6HgN4Qd0-dX",
        "outputId": "0ae7c5c6-4e3d-47fe-fdb7-47514ca5ed7d"
      },
      "execution_count": null,
      "outputs": [
        {
          "output_type": "stream",
          "name": "stdout",
          "text": [
            "123\n",
            "321"
          ]
        }
      ]
    }
  ]
}