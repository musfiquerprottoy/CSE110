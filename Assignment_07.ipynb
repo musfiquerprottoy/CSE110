{
  "nbformat": 4,
  "nbformat_minor": 0,
  "metadata": {
    "colab": {
      "provenance": []
    },
    "kernelspec": {
      "name": "python3",
      "display_name": "Python 3"
    },
    "language_info": {
      "name": "python"
    }
  },
  "cells": [
    {
      "cell_type": "code",
      "execution_count": null,
      "metadata": {
        "colab": {
          "base_uri": "https://localhost:8080/"
        },
        "id": "BND1RDtJFL7r",
        "outputId": "86f09cc9-822d-4521-d1c4-ccdc4214c5f8"
      },
      "outputs": [
        {
          "output_type": "stream",
          "name": "stdout",
          "text": [
            "10\n",
            "Even\n"
          ]
        }
      ],
      "source": [
        "#Task 01:\n",
        "def even_checker(num):\n",
        "    if (num%2)==0:\n",
        "        print(\"Even\")\n",
        "    else:\n",
        "        print(\"Odd\")\n",
        "even_checker(int(input()))"
      ]
    },
    {
      "cell_type": "code",
      "source": [
        "#Taskd 02:\n",
        "def fibonacci(number):\n",
        "    a = 0\n",
        "    b = 1\n",
        "    while a<=number:\n",
        "        print(a,end=\" \")\n",
        "        i = a+b\n",
        "        a = b\n",
        "        b = i\n",
        "fibonacci(10)"
      ],
      "metadata": {
        "colab": {
          "base_uri": "https://localhost:8080/"
        },
        "id": "ZgplSqoEGEBj",
        "outputId": "ac3573b0-5773-4246-fa26-c3ebc2691239"
      },
      "execution_count": null,
      "outputs": [
        {
          "output_type": "stream",
          "name": "stdout",
          "text": [
            "0 1 1 2 3 5 8 "
          ]
        }
      ]
    },
    {
      "cell_type": "code",
      "source": [
        "#Task 03:\n",
        "def foo_moo(x):\n",
        "    if (x%2==0) and (x%3==0):\n",
        "        return \"FooMoo\"\n",
        "    elif (x%3==0):\n",
        "        return \"Moo\"\n",
        "    elif (x%2==0):\n",
        "        return \"Foo\"\n",
        "    return \"Boo\"\n",
        "print(foo_moo(5))\n"
      ],
      "metadata": {
        "colab": {
          "base_uri": "https://localhost:8080/"
        },
        "id": "I6MrBJ4TGzGB",
        "outputId": "25e4f961-41fb-4bea-f048-8c15b5027804"
      },
      "execution_count": null,
      "outputs": [
        {
          "output_type": "stream",
          "name": "stdout",
          "text": [
            "Boo\n"
          ]
        }
      ]
    },
    {
      "cell_type": "code",
      "source": [
        "#Task 04:\n",
        "def function_nam(x):\n",
        "    up = 0\n",
        "    low = 0\n",
        "    for x in x:\n",
        "        if x>=\"A\" and x<=\"Z\":\n",
        "            up = up+1\n",
        "        elif x>=\"a\" and x<='z':\n",
        "            low = low+1\n",
        "        else:\n",
        "            pass\n",
        "    print(\"Number of upper alphabers are: \",str(up))\n",
        "    print(\"Number of lower alphabet are: \",str(low))\n",
        "function_nam('The Quick Sand Man')\n"
      ],
      "metadata": {
        "colab": {
          "base_uri": "https://localhost:8080/"
        },
        "id": "V6L2gmJyHhpd",
        "outputId": "1f6f4d4f-1bc8-40cf-f35c-255f942147aa"
      },
      "execution_count": null,
      "outputs": [
        {
          "output_type": "stream",
          "name": "stdout",
          "text": [
            "Number of upper alphabers are:  4\n",
            "Number of lower alphabet are:  11\n"
          ]
        }
      ]
    },
    {
      "cell_type": "code",
      "source": [
        "#Task 05:\n",
        "def calculate_tax(age,salary,designation):\n",
        "    tax = 0\n",
        "    if (age<18):\n",
        "        return tax\n",
        "    elif (designation.lower()=='President'):\n",
        "        return tax\n",
        "    elif (salary<10000):\n",
        "        return tax\n",
        "    elif (salary>=10000 and salary<=20000):\n",
        "        tax = salary*(0.05)\n",
        "        return tax\n",
        "age = int(input())\n",
        "salary = float(input())\n",
        "designation = input()\n",
        "tax = calculate_tax(age,salary,designation)\n",
        "print(tax)\n"
      ],
      "metadata": {
        "colab": {
          "base_uri": "https://localhost:8080/"
        },
        "id": "vs2RMvhtJcOE",
        "outputId": "4667e1b3-455e-4459-b0ef-3117ebe4f38c"
      },
      "execution_count": null,
      "outputs": [
        {
          "output_type": "stream",
          "name": "stdout",
          "text": [
            "16\n",
            "20000\n",
            "student\n",
            "0\n"
          ]
        }
      ]
    },
    {
      "cell_type": "code",
      "source": [
        "#Task 06:\n",
        "def function_name(days):\n",
        "    year = days//365\n",
        "    month = (days%365)//30\n",
        "    day = (days%365)%30\n",
        "    print(\"{}years,{}months and{}days\".format(year,month,day))\n",
        "days= int(input())\n",
        "function_name(days)"
      ],
      "metadata": {
        "colab": {
          "base_uri": "https://localhost:8080/"
        },
        "id": "1TQNLL6qLHJM",
        "outputId": "75595ed9-f527-430f-fc82-4fe2c98f5073"
      },
      "execution_count": null,
      "outputs": [
        {
          "output_type": "stream",
          "name": "stdout",
          "text": [
            "30000\n",
            "82years,2months and10days\n"
          ]
        }
      ]
    },
    {
      "cell_type": "code",
      "source": [
        "#Task 07:\n",
        "def show_palindrome(num):\n",
        "    string= \"\"\n",
        "    for i in range(1,num+1):\n",
        "        print(i,end=\" \")\n",
        "    for i in reversed(range(1,num)):\n",
        "        print(i,end=\" \")\n",
        "show_palindrome(3)\n",
        "print()"
      ],
      "metadata": {
        "colab": {
          "base_uri": "https://localhost:8080/"
        },
        "id": "__K7qfZhMD3t",
        "outputId": "c6c92683-ea4e-4725-84a9-58e6e25d8136"
      },
      "execution_count": null,
      "outputs": [
        {
          "output_type": "stream",
          "name": "stdout",
          "text": [
            "1 2 3 2 1 \n"
          ]
        }
      ]
    },
    {
      "cell_type": "code",
      "source": [
        "#Task 08:\n",
        "def show_palindromic(n):\n",
        "    out = \" \"\n",
        "    for i in range(1,n+1):\n",
        "        out += str(i)+\" \"\n",
        "    for j in range (n-1,0,-1):\n",
        "        out+=str(j)+\" \"\n",
        "    return out\n",
        "def show_palindromic_triangle(n):\n",
        "    for i in range (1,n+1):\n",
        "        print(\" \"*(n-i)*2),show_palindromic\n",
        "show_palindromi_triangle(5)"
      ],
      "metadata": {
        "id": "Gc3HaRuUssKD"
      },
      "execution_count": null,
      "outputs": []
    },
    {
      "cell_type": "code",
      "source": [
        "def show_palindrome_triangle(n):\n",
        "    for i in range(n):\n",
        "        print(2*(n-i-1)*\" \",end=\" \")\n",
        "        for j in range(i+1):\n",
        "            print(j+1,end=\" \")\n",
        "        for j in range(i,0,-1):\n",
        "            print(j,end=\" \")\n",
        "        print( )\n",
        "show_palindrome_triangle(5)"
      ],
      "metadata": {
        "colab": {
          "base_uri": "https://localhost:8080/"
        },
        "id": "4EZcGAvrvS6T",
        "outputId": "c7b47732-b4a1-471b-e25e-fcd2121a4b3a"
      },
      "execution_count": null,
      "outputs": [
        {
          "output_type": "stream",
          "name": "stdout",
          "text": [
            "         1 \n",
            "       1 2 1 \n",
            "     1 2 3 2 1 \n",
            "   1 2 3 4 3 2 1 \n",
            " 1 2 3 4 5 4 3 2 1 \n"
          ]
        }
      ]
    },
    {
      "cell_type": "code",
      "source": [
        "def remove_characters(sentence, position):\n",
        "    new_sentence = sentence[0]\n",
        "    removed_characters = \"\"\n",
        "    for i in range(1, len(sentence)):\n",
        "        if i % position != 0:\n",
        "            new_sentence += sentence[i]\n",
        "        else:\n",
        "            removed_characters += sentence[i]\n",
        "    new_sentence += removed_characters\n",
        "    return new_sentence\n",
        "\n",
        "# Example usage\n",
        "input_sentence = input(\"Enter a sentence: \")\n",
        "input_position = int(input(\"Enter a position: \"))\n",
        "new_sentence = remove_characters(input_sentence, input_position)\n",
        "print(new_sentence)"
      ],
      "metadata": {
        "id": "m5uVlq0QjfBt"
      },
      "execution_count": null,
      "outputs": []
    },
    {
      "cell_type": "code",
      "source": [
        "#Task 09:\n",
        "def area_circumference_generator(rad):\n",
        "    area = 3.1416*(rad*rad)\n",
        "    circa =  2*3.1416*rad\n",
        "    return area,circa\n",
        "rad=float(input(\"Enter radius: \"))\n",
        "area, circa = area_circumference_generator (rad)\n",
        "print(f'({area} , {circa})')\n",
        "print(\"Area of the circle is\", area,\"and circumference is \",circa)"
      ],
      "metadata": {
        "colab": {
          "base_uri": "https://localhost:8080/"
        },
        "id": "nN8JKB6zwJca",
        "outputId": "89dd51c5-0adc-429b-b2bf-046ab454b595"
      },
      "execution_count": null,
      "outputs": [
        {
          "output_type": "stream",
          "name": "stdout",
          "text": [
            "Enter radius: 1.5\n",
            "(7.0686 , 9.4248)\n",
            "Area of the circle is 7.0686 and circumference is  9.4248\n"
          ]
        }
      ]
    },
    {
      "cell_type": "markdown",
      "source": [],
      "metadata": {
        "id": "9JgoIFfGw5OT"
      }
    },
    {
      "cell_type": "code",
      "source": [
        "#Task 14:\n",
        "def remove(sentence, position):\n",
        ""
      ],
      "metadata": {
        "id": "w4aZx47tjQMl"
      },
      "execution_count": null,
      "outputs": []
    },
    {
      "cell_type": "code",
      "source": [
        "#Task 15:\n",
        "def calculate_total_price (order, location='Dhanmondi'):\n",
        "    prices = {\"Rice\": 105, \"Potato\": 20, \"Chicken\": 250, \"Beef\": 510, \"Oil\": 85}\n",
        "    total_price = 0\n",
        "    for item in order:\n",
        "        if item in prices:\n",
        "            total_price+=prices[item]\n",
        "    if location=='Dhanmondi':\n",
        "        delivery = 30\n",
        "    else:\n",
        "        delivery = 70\n",
        "    total_price+=delivery\n",
        "    print(total_price)\n",
        "calculate_total_price (['Rice','Beef','Rice'])"
      ],
      "metadata": {
        "colab": {
          "base_uri": "https://localhost:8080/"
        },
        "id": "7JmLnW8fZNl2",
        "outputId": "869c79eb-ffa2-4072-d0e1-bfad96793651"
      },
      "execution_count": null,
      "outputs": [
        {
          "output_type": "stream",
          "name": "stdout",
          "text": [
            "750\n"
          ]
        }
      ]
    },
    {
      "cell_type": "code",
      "source": [
        "#Task 07:\n",
        "def show_palindrome(num):\n",
        "    for i in range(1,num+1):\n",
        "        print(i,end='')\n",
        "    for i in reversed (range(1,num)):\n",
        "        print(i,end='')\n",
        "show_palindrome(5)"
      ],
      "metadata": {
        "colab": {
          "base_uri": "https://localhost:8080/"
        },
        "id": "jYBrf4N_nLbc",
        "outputId": "6cad13dd-706d-4b7e-9c8c-49fbbdfa31b1"
      },
      "execution_count": null,
      "outputs": [
        {
          "output_type": "stream",
          "name": "stdout",
          "text": [
            "123454321"
          ]
        }
      ]
    },
    {
      "cell_type": "code",
      "source": [
        "#Task 06:\n",
        "def number_of_days(days):\n",
        "    year = days//365\n",
        "    month = (days%365)//30\n",
        "    day = (days%365)%30\n",
        "    print(f'{year} years, {month} months, {day} days')\n",
        "days = int(input())\n",
        "number_of_days(days)"
      ],
      "metadata": {
        "colab": {
          "base_uri": "https://localhost:8080/"
        },
        "id": "HRn9ef9noRDR",
        "outputId": "2c8aa50d-aa9b-41ca-fa60-dc78afcfc97e"
      },
      "execution_count": null,
      "outputs": [
        {
          "output_type": "stream",
          "name": "stdout",
          "text": [
            "4330\n",
            "11 years, 10 months, 15 days\n"
          ]
        }
      ]
    },
    {
      "cell_type": "code",
      "source": [
        "def calculate_tax(age,salary,designation):\n",
        "    tax = 0\n",
        "    if (age<18):\n",
        "        return tax\n",
        "    elif (designation.lower()=='President'):\n",
        "        return tax\n",
        "    elif (salary<10000):\n",
        "        return tax\n",
        "    elif (salary>=10000 and salary<=20000):\n",
        "        tax = salary*(0.05)\n",
        "        return tax\n",
        "age = int(input())\n",
        "salary = float(input())\n",
        "designation = input()\n",
        "tax = calculate_tax(age,salary,designation)\n",
        "print(tax)"
      ],
      "metadata": {
        "id": "xYTquViVq0Xv"
      },
      "execution_count": null,
      "outputs": []
    },
    {
      "cell_type": "code",
      "source": [
        "#Task 07:\n",
        "def calculate_tax(age,salary,designation):\n",
        "    tax = 0"
      ],
      "metadata": {
        "id": "ZMlEj2xire71"
      },
      "execution_count": null,
      "outputs": []
    },
    {
      "cell_type": "code",
      "source": [
        "#Task 01:\n",
        "def even_checker(num):\n",
        "    if num%2==0:\n",
        "        print('Even')\n",
        "    else:\n",
        "        print('Odd')\n",
        "even_checker(3)"
      ],
      "metadata": {
        "colab": {
          "base_uri": "https://localhost:8080/"
        },
        "id": "iwmhpjVSUSjt",
        "outputId": "28affe00-14fd-4319-b207-ee58bf1767b5"
      },
      "execution_count": null,
      "outputs": [
        {
          "output_type": "stream",
          "name": "stdout",
          "text": [
            "Odd\n"
          ]
        }
      ]
    },
    {
      "cell_type": "code",
      "source": [
        "#Task 02:\n",
        "def fibonacci(number):\n",
        "    a = 0\n",
        "    b = 1\n",
        "    while a<=number:\n",
        "        print(a,end=',')\n",
        "        i = a+b\n",
        "        a = b\n",
        "        b = i\n",
        "fibonacci(10)"
      ],
      "metadata": {
        "colab": {
          "base_uri": "https://localhost:8080/"
        },
        "id": "uwv_VhBaXl3t",
        "outputId": "ae9a5d1b-2200-4126-f1a2-96840ebeee6a"
      },
      "execution_count": null,
      "outputs": [
        {
          "output_type": "stream",
          "name": "stdout",
          "text": [
            "0,1,1,2,3,5,8,"
          ]
        }
      ]
    },
    {
      "cell_type": "code",
      "source": [
        "#Task 03:\n",
        "def foo_moo(number):\n",
        "    if number%2==0 and number%3==0:\n",
        "        print('FooMoo')\n",
        "    elif number%2==0:\n",
        "        print('Foo')\n",
        "    elif number%3==0:\n",
        "        print('Moo')\n",
        "    else:\n",
        "        print('Boo')\n",
        "foo_moo(9)"
      ],
      "metadata": {
        "colab": {
          "base_uri": "https://localhost:8080/"
        },
        "id": "wmGbIxLxY__v",
        "outputId": "9a1fbbc8-3b4d-4b26-edfb-4b89e2144b10"
      },
      "execution_count": null,
      "outputs": [
        {
          "output_type": "stream",
          "name": "stdout",
          "text": [
            "Moo\n"
          ]
        }
      ]
    },
    {
      "cell_type": "code",
      "source": [
        "#Task 04:\n",
        "def function_name(string):\n",
        "    lower = 0\n",
        "    upper = 0\n",
        "    for i in string:\n",
        "        if 97<=ord(i)<=122:\n",
        "            lower+=1\n",
        "        elif 65<=ord(i)<=90:\n",
        "            upper+=1\n",
        "    print('No. of uppercase character: ',upper)\n",
        "    print('No. of lowercase character: ',lower)\n",
        "function_name('The quick Sand Man')"
      ],
      "metadata": {
        "colab": {
          "base_uri": "https://localhost:8080/"
        },
        "id": "OowUoejfZt9l",
        "outputId": "ae9a55df-e5e4-40eb-f403-61244ae1ac9a"
      },
      "execution_count": null,
      "outputs": [
        {
          "output_type": "stream",
          "name": "stdout",
          "text": [
            "No. of uppercase character:  3\n",
            "No. of lowercase character:  12\n"
          ]
        }
      ]
    },
    {
      "cell_type": "code",
      "source": [
        "#Task 05:\n",
        "def calculate_tax(age, salary, designation):\n",
        "    tax = 0\n",
        "    if age<18:\n",
        "        return tax\n",
        "    elif designation.lower() == 'president':\n",
        "        return tax\n",
        "    elif salary<10000:\n",
        "        return tax\n",
        "    elif 10000 <= salary<= 20000:\n",
        "        tax+= salary*0.05\n",
        "        return tax\n",
        "    elif salary>20000:\n",
        "        tax+= salary*0.1\n",
        "        return tax\n",
        "\n",
        "age = int(input())\n",
        "salary = int(input())\n",
        "designation = input()\n",
        "tax = calculate_tax(age, salary, designation)\n",
        "print(tax)"
      ],
      "metadata": {
        "colab": {
          "base_uri": "https://localhost:8080/"
        },
        "id": "s9pn3BcpZ0YP",
        "outputId": "65c51478-2ba2-4c21-a26f-d37a963bcc5d"
      },
      "execution_count": null,
      "outputs": [
        {
          "output_type": "stream",
          "name": "stdout",
          "text": [
            "20\n",
            "22000\n",
            "rf\n",
            "2200.0\n"
          ]
        }
      ]
    },
    {
      "cell_type": "code",
      "source": [
        "#Task 06:\n",
        "def function_name(days):\n",
        "    year = days//365\n",
        "    months = (days%365)//30\n",
        "    days = (days%365)%30\n",
        "    print(f'{year} year, {months} months and {days} days')\n",
        "days = int(input())\n",
        "function_name(days)"
      ],
      "metadata": {
        "colab": {
          "base_uri": "https://localhost:8080/"
        },
        "id": "EFI1U9ddpUPI",
        "outputId": "61dd3c03-fd84-47a9-a53d-0ff6d8ffdef6"
      },
      "execution_count": null,
      "outputs": [
        {
          "output_type": "stream",
          "name": "stdout",
          "text": [
            "4330\n",
            "11 year, 10 months and 15 days\n"
          ]
        }
      ]
    }
  ]
}